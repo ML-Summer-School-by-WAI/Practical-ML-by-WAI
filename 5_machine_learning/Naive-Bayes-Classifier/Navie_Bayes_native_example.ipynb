{
 "cells": [
  {
   "cell_type": "markdown",
   "id": "ace82a1c",
   "metadata": {},
   "source": [
    "\n",
    "# Naive Bayes Classifier from Scratch\n",
    "The \"naive\" part comes from the assumption that **all features are conditionally independent of each other given the class**. This simplifies the likelihood calculation:\n",
    "\n",
    "$$P(\\text{Features} | \\text{Class}) = P(f_1 | \\text{Class}) \\cdot P(f_2 | \\text{Class}) \\cdot \\dots \\cdot P(f_n | \\text{Class})$$\n",
    "\n",
    "Where $f\\_1, f\\_2, \\\\dots, f\\_n$ are the individual features.\n",
    "\n",
    "Combining these, the Naive Bayes Classifier predicts the class $k$ that maximizes:\n",
    "\n",
    "$$P(\\text{Class } k) \\cdot \\prod_{i=1}^{n} P(f_i | \\text{Class } k)$$\n",
    "\""
   ]
  },
  {
   "cell_type": "code",
   "execution_count": 6,
   "id": "5a31bd98",
   "metadata": {},
   "outputs": [],
   "source": [
    "import pandas as pd\n",
    "import numpy as np \n"
   ]
  },
  {
   "cell_type": "code",
   "execution_count": 7,
   "id": "702fe3b1",
   "metadata": {},
   "outputs": [
    {
     "data": {
      "text/html": [
       "<div>\n",
       "<style scoped>\n",
       "    .dataframe tbody tr th:only-of-type {\n",
       "        vertical-align: middle;\n",
       "    }\n",
       "\n",
       "    .dataframe tbody tr th {\n",
       "        vertical-align: top;\n",
       "    }\n",
       "\n",
       "    .dataframe thead th {\n",
       "        text-align: right;\n",
       "    }\n",
       "</style>\n",
       "<table border=\"1\" class=\"dataframe\">\n",
       "  <thead>\n",
       "    <tr style=\"text-align: right;\">\n",
       "      <th></th>\n",
       "      <th>Outlook</th>\n",
       "      <th>Temperature</th>\n",
       "      <th>Humidity</th>\n",
       "      <th>Windy</th>\n",
       "      <th>Play Golf</th>\n",
       "    </tr>\n",
       "  </thead>\n",
       "  <tbody>\n",
       "    <tr>\n",
       "      <th>0</th>\n",
       "      <td>Rainy</td>\n",
       "      <td>Hot</td>\n",
       "      <td>High</td>\n",
       "      <td>False</td>\n",
       "      <td>No</td>\n",
       "    </tr>\n",
       "    <tr>\n",
       "      <th>1</th>\n",
       "      <td>Rainy</td>\n",
       "      <td>Hot</td>\n",
       "      <td>High</td>\n",
       "      <td>True</td>\n",
       "      <td>No</td>\n",
       "    </tr>\n",
       "    <tr>\n",
       "      <th>2</th>\n",
       "      <td>Overcast</td>\n",
       "      <td>Hot</td>\n",
       "      <td>High</td>\n",
       "      <td>False</td>\n",
       "      <td>Yes</td>\n",
       "    </tr>\n",
       "    <tr>\n",
       "      <th>3</th>\n",
       "      <td>Sunny</td>\n",
       "      <td>Mild</td>\n",
       "      <td>High</td>\n",
       "      <td>False</td>\n",
       "      <td>Yes</td>\n",
       "    </tr>\n",
       "    <tr>\n",
       "      <th>4</th>\n",
       "      <td>Sunny</td>\n",
       "      <td>Cool</td>\n",
       "      <td>Normal</td>\n",
       "      <td>False</td>\n",
       "      <td>Yes</td>\n",
       "    </tr>\n",
       "    <tr>\n",
       "      <th>5</th>\n",
       "      <td>Sunny</td>\n",
       "      <td>Cool</td>\n",
       "      <td>Normal</td>\n",
       "      <td>True</td>\n",
       "      <td>No</td>\n",
       "    </tr>\n",
       "    <tr>\n",
       "      <th>6</th>\n",
       "      <td>Overcast</td>\n",
       "      <td>Cool</td>\n",
       "      <td>Normal</td>\n",
       "      <td>True</td>\n",
       "      <td>Yes</td>\n",
       "    </tr>\n",
       "    <tr>\n",
       "      <th>7</th>\n",
       "      <td>Rainy</td>\n",
       "      <td>Mild</td>\n",
       "      <td>High</td>\n",
       "      <td>False</td>\n",
       "      <td>No</td>\n",
       "    </tr>\n",
       "    <tr>\n",
       "      <th>8</th>\n",
       "      <td>Rainy</td>\n",
       "      <td>Cool</td>\n",
       "      <td>Normal</td>\n",
       "      <td>False</td>\n",
       "      <td>Yes</td>\n",
       "    </tr>\n",
       "    <tr>\n",
       "      <th>9</th>\n",
       "      <td>Sunny</td>\n",
       "      <td>Mild</td>\n",
       "      <td>Normal</td>\n",
       "      <td>False</td>\n",
       "      <td>Yes</td>\n",
       "    </tr>\n",
       "    <tr>\n",
       "      <th>10</th>\n",
       "      <td>Rainy</td>\n",
       "      <td>Mild</td>\n",
       "      <td>Normal</td>\n",
       "      <td>True</td>\n",
       "      <td>Yes</td>\n",
       "    </tr>\n",
       "    <tr>\n",
       "      <th>11</th>\n",
       "      <td>Overcast</td>\n",
       "      <td>Mild</td>\n",
       "      <td>High</td>\n",
       "      <td>True</td>\n",
       "      <td>Yes</td>\n",
       "    </tr>\n",
       "    <tr>\n",
       "      <th>12</th>\n",
       "      <td>Overcast</td>\n",
       "      <td>Hot</td>\n",
       "      <td>Normal</td>\n",
       "      <td>False</td>\n",
       "      <td>Yes</td>\n",
       "    </tr>\n",
       "    <tr>\n",
       "      <th>13</th>\n",
       "      <td>Sunny</td>\n",
       "      <td>Mild</td>\n",
       "      <td>High</td>\n",
       "      <td>True</td>\n",
       "      <td>No</td>\n",
       "    </tr>\n",
       "  </tbody>\n",
       "</table>\n",
       "</div>"
      ],
      "text/plain": [
       "     Outlook Temperature Humidity  Windy Play Golf\n",
       "0      Rainy         Hot     High  False        No\n",
       "1      Rainy         Hot     High   True        No\n",
       "2   Overcast         Hot     High  False       Yes\n",
       "3      Sunny        Mild     High  False       Yes\n",
       "4      Sunny        Cool   Normal  False       Yes\n",
       "5      Sunny        Cool   Normal   True        No\n",
       "6   Overcast        Cool   Normal   True       Yes\n",
       "7      Rainy        Mild     High  False        No\n",
       "8      Rainy        Cool   Normal  False       Yes\n",
       "9      Sunny        Mild   Normal  False       Yes\n",
       "10     Rainy        Mild   Normal   True       Yes\n",
       "11  Overcast        Mild     High   True       Yes\n",
       "12  Overcast         Hot   Normal  False       Yes\n",
       "13     Sunny        Mild     High   True        No"
      ]
     },
     "execution_count": 7,
     "metadata": {},
     "output_type": "execute_result"
    }
   ],
   "source": [
    "data = {\n",
    "    'Outlook': ['Rainy', 'Rainy', 'Overcast', 'Sunny', 'Sunny', 'Sunny', 'Overcast', 'Rainy', 'Rainy', 'Sunny', 'Rainy', 'Overcast', 'Overcast', 'Sunny'],\n",
    "    'Temperature': ['Hot', 'Hot', 'Hot', 'Mild', 'Cool', 'Cool', 'Cool', 'Mild', 'Cool', 'Mild', 'Mild', 'Mild', 'Hot', 'Mild'],\n",
    "    'Humidity': ['High', 'High', 'High', 'High', 'Normal', 'Normal', 'Normal', 'High', 'Normal', 'Normal', 'Normal', 'High', 'Normal', 'High'],\n",
    "    'Windy': ['False', 'True', 'False', 'False', 'False', 'True', 'True', 'False', 'False', 'False', 'True', 'True', 'False', 'True'],\n",
    "    'Play Golf': ['No', 'No', 'Yes', 'Yes', 'Yes', 'No', 'Yes', 'No', 'Yes', 'Yes', 'Yes', 'Yes', 'Yes', 'No']\n",
    "}\n",
    "df_full = pd.DataFrame(data)\n",
    "df_full"
   ]
  },
  {
   "cell_type": "code",
   "execution_count": 8,
   "id": "7f2131ce",
   "metadata": {},
   "outputs": [
    {
     "name": "stdout",
     "output_type": "stream",
     "text": [
      "--- Training Data ---\n",
      "     Outlook Temperature Humidity  Windy Play Golf\n",
      "0      Rainy         Hot     High  False        No\n",
      "1      Rainy         Hot     High   True        No\n",
      "2   Overcast         Hot     High  False       Yes\n",
      "3      Sunny        Mild     High  False       Yes\n",
      "4      Sunny        Cool   Normal  False       Yes\n",
      "5      Sunny        Cool   Normal   True        No\n",
      "6   Overcast        Cool   Normal   True       Yes\n",
      "7      Rainy        Mild     High  False        No\n",
      "8      Rainy        Cool   Normal  False       Yes\n",
      "9      Sunny        Mild   Normal  False       Yes\n",
      "10     Rainy        Mild   Normal   True       Yes\n",
      "11  Overcast        Mild     High   True       Yes\n",
      "\n",
      "--- Test Data ---\n",
      "     Outlook Temperature Humidity  Windy Play Golf\n",
      "12  Overcast         Hot   Normal  False       Yes\n",
      "13     Sunny        Mild     High   True        No\n"
     ]
    }
   ],
   "source": [
    "# Rows 0-11 are training, rows 12-13 are test\n",
    "df_train = df_full.iloc[0:12]\n",
    "df_test = df_full.iloc[12:14]\n",
    "\n",
    "print(\"--- Training Data ---\")\n",
    "print(df_train)\n",
    "print(\"\\n--- Test Data ---\")\n",
    "print(df_test)\n",
    "\n",
    "# Define features and target\n",
    "features = ['Outlook', 'Temperature', 'Humidity', 'Windy']\n",
    "target = 'Play Golf'"
   ]
  },
  {
   "cell_type": "code",
   "execution_count": 9,
   "id": "60716566",
   "metadata": {},
   "outputs": [
    {
     "name": "stdout",
     "output_type": "stream",
     "text": [
      "Prior Probability P(Play Golf=Yes) (from training): 0.67\n",
      "Prior Probability P(Play Golf=No) (from training): 0.33\n"
     ]
    }
   ],
   "source": [
    "yes_train_count = df_train[df_train[target] == 'Yes'].shape[0]\n",
    "no_train_count = df_train[df_train[target] == 'No'].shape[0]\n",
    "total_train_samples = df_train.shape[0]\n",
    "\n",
    "# Calculate prior probabilities\n",
    "P_Yes = yes_train_count / total_train_samples\n",
    "P_No = no_train_count / total_train_samples\n",
    "\n",
    "\n",
    "print(f\"Prior Probability P(Play Golf=Yes) (from training): {P_Yes:.2f}\")\n",
    "print(f\"Prior Probability P(Play Golf=No) (from training): {P_No:.2f}\")\n",
    "\n",
    "\n"
   ]
  },
  {
   "cell_type": "code",
   "execution_count": null,
   "id": "d2b590b6",
   "metadata": {},
   "outputs": [],
   "source": []
  },
  {
   "cell_type": "code",
   "execution_count": 11,
   "id": "8c9b2c85",
   "metadata": {},
   "outputs": [],
   "source": [
    "df_train_yes = df_train[df_train[target] == 'Yes']\n",
    "df_train_no = df_train[df_train[target] == 'No']"
   ]
  },
  {
   "cell_type": "code",
   "execution_count": 12,
   "id": "03654fa7",
   "metadata": {},
   "outputs": [
    {
     "data": {
      "text/html": [
       "<div>\n",
       "<style scoped>\n",
       "    .dataframe tbody tr th:only-of-type {\n",
       "        vertical-align: middle;\n",
       "    }\n",
       "\n",
       "    .dataframe tbody tr th {\n",
       "        vertical-align: top;\n",
       "    }\n",
       "\n",
       "    .dataframe thead th {\n",
       "        text-align: right;\n",
       "    }\n",
       "</style>\n",
       "<table border=\"1\" class=\"dataframe\">\n",
       "  <thead>\n",
       "    <tr style=\"text-align: right;\">\n",
       "      <th></th>\n",
       "      <th>Outlook</th>\n",
       "      <th>Temperature</th>\n",
       "      <th>Humidity</th>\n",
       "      <th>Windy</th>\n",
       "      <th>Play Golf</th>\n",
       "    </tr>\n",
       "  </thead>\n",
       "  <tbody>\n",
       "    <tr>\n",
       "      <th>0</th>\n",
       "      <td>Rainy</td>\n",
       "      <td>Hot</td>\n",
       "      <td>High</td>\n",
       "      <td>False</td>\n",
       "      <td>No</td>\n",
       "    </tr>\n",
       "    <tr>\n",
       "      <th>1</th>\n",
       "      <td>Rainy</td>\n",
       "      <td>Hot</td>\n",
       "      <td>High</td>\n",
       "      <td>True</td>\n",
       "      <td>No</td>\n",
       "    </tr>\n",
       "    <tr>\n",
       "      <th>5</th>\n",
       "      <td>Sunny</td>\n",
       "      <td>Cool</td>\n",
       "      <td>Normal</td>\n",
       "      <td>True</td>\n",
       "      <td>No</td>\n",
       "    </tr>\n",
       "    <tr>\n",
       "      <th>7</th>\n",
       "      <td>Rainy</td>\n",
       "      <td>Mild</td>\n",
       "      <td>High</td>\n",
       "      <td>False</td>\n",
       "      <td>No</td>\n",
       "    </tr>\n",
       "  </tbody>\n",
       "</table>\n",
       "</div>"
      ],
      "text/plain": [
       "  Outlook Temperature Humidity  Windy Play Golf\n",
       "0   Rainy         Hot     High  False        No\n",
       "1   Rainy         Hot     High   True        No\n",
       "5   Sunny        Cool   Normal   True        No\n",
       "7   Rainy        Mild     High  False        No"
      ]
     },
     "execution_count": 12,
     "metadata": {},
     "output_type": "execute_result"
    }
   ],
   "source": [
    "df_train_no"
   ]
  },
  {
   "cell_type": "code",
   "execution_count": 12,
   "id": "cc1f434e",
   "metadata": {},
   "outputs": [
    {
     "data": {
      "text/html": [
       "<div>\n",
       "<style scoped>\n",
       "    .dataframe tbody tr th:only-of-type {\n",
       "        vertical-align: middle;\n",
       "    }\n",
       "\n",
       "    .dataframe tbody tr th {\n",
       "        vertical-align: top;\n",
       "    }\n",
       "\n",
       "    .dataframe thead th {\n",
       "        text-align: right;\n",
       "    }\n",
       "</style>\n",
       "<table border=\"1\" class=\"dataframe\">\n",
       "  <thead>\n",
       "    <tr style=\"text-align: right;\">\n",
       "      <th></th>\n",
       "      <th>Outlook</th>\n",
       "      <th>Temperature</th>\n",
       "      <th>Humidity</th>\n",
       "      <th>Windy</th>\n",
       "      <th>Play Golf</th>\n",
       "    </tr>\n",
       "  </thead>\n",
       "  <tbody>\n",
       "    <tr>\n",
       "      <th>2</th>\n",
       "      <td>Overcast</td>\n",
       "      <td>Hot</td>\n",
       "      <td>High</td>\n",
       "      <td>False</td>\n",
       "      <td>Yes</td>\n",
       "    </tr>\n",
       "    <tr>\n",
       "      <th>3</th>\n",
       "      <td>Sunny</td>\n",
       "      <td>Mild</td>\n",
       "      <td>High</td>\n",
       "      <td>False</td>\n",
       "      <td>Yes</td>\n",
       "    </tr>\n",
       "    <tr>\n",
       "      <th>4</th>\n",
       "      <td>Sunny</td>\n",
       "      <td>Cool</td>\n",
       "      <td>Normal</td>\n",
       "      <td>False</td>\n",
       "      <td>Yes</td>\n",
       "    </tr>\n",
       "    <tr>\n",
       "      <th>6</th>\n",
       "      <td>Overcast</td>\n",
       "      <td>Cool</td>\n",
       "      <td>Normal</td>\n",
       "      <td>True</td>\n",
       "      <td>Yes</td>\n",
       "    </tr>\n",
       "    <tr>\n",
       "      <th>8</th>\n",
       "      <td>Rainy</td>\n",
       "      <td>Cool</td>\n",
       "      <td>Normal</td>\n",
       "      <td>False</td>\n",
       "      <td>Yes</td>\n",
       "    </tr>\n",
       "    <tr>\n",
       "      <th>9</th>\n",
       "      <td>Sunny</td>\n",
       "      <td>Mild</td>\n",
       "      <td>Normal</td>\n",
       "      <td>False</td>\n",
       "      <td>Yes</td>\n",
       "    </tr>\n",
       "    <tr>\n",
       "      <th>10</th>\n",
       "      <td>Rainy</td>\n",
       "      <td>Mild</td>\n",
       "      <td>Normal</td>\n",
       "      <td>True</td>\n",
       "      <td>Yes</td>\n",
       "    </tr>\n",
       "    <tr>\n",
       "      <th>11</th>\n",
       "      <td>Overcast</td>\n",
       "      <td>Mild</td>\n",
       "      <td>High</td>\n",
       "      <td>True</td>\n",
       "      <td>Yes</td>\n",
       "    </tr>\n",
       "  </tbody>\n",
       "</table>\n",
       "</div>"
      ],
      "text/plain": [
       "     Outlook Temperature Humidity  Windy Play Golf\n",
       "2   Overcast         Hot     High  False       Yes\n",
       "3      Sunny        Mild     High  False       Yes\n",
       "4      Sunny        Cool   Normal  False       Yes\n",
       "6   Overcast        Cool   Normal   True       Yes\n",
       "8      Rainy        Cool   Normal  False       Yes\n",
       "9      Sunny        Mild   Normal  False       Yes\n",
       "10     Rainy        Mild   Normal   True       Yes\n",
       "11  Overcast        Mild     High   True       Yes"
      ]
     },
     "execution_count": 12,
     "metadata": {},
     "output_type": "execute_result"
    }
   ],
   "source": [
    "df_train_yes"
   ]
  },
  {
   "cell_type": "code",
   "execution_count": 19,
   "id": "6c4b2961",
   "metadata": {},
   "outputs": [],
   "source": [
    "def calculate_likelihoods_smoothed(feature_col, class_df, class_count, df_overall):\n",
    "    likelihoods = {}\n",
    "    value_counts = class_df[feature_col].value_counts()\n",
    "    num_possible_values = df_overall[feature_col].nunique() # Total unique values for feature in full dataset\n",
    "\n",
    "    for value in df_overall[feature_col].unique(): # Iterate over all possible values in the full dataset\n",
    "        count = value_counts.get(value, 0) # Get count, 0 if not present\n",
    "        likelihoods[value] = (count + 1) / (class_count + num_possible_values)\n",
    "    return likelihoods"
   ]
  },
  {
   "cell_type": "code",
   "execution_count": 20,
   "id": "94bc5bc0",
   "metadata": {},
   "outputs": [
    {
     "name": "stdout",
     "output_type": "stream",
     "text": [
      "--- Calculated Likelihoods (P(Outlook | Play Golf=Yes)) ---\n",
      "P_Rainy 0.25\n",
      "P_Overcast 0.375\n",
      "P_Sunny 0.375\n"
     ]
    },
    {
     "data": {
      "text/plain": [
       "{'Rainy': np.float64(0.2727272727272727),\n",
       " 'Overcast': np.float64(0.36363636363636365),\n",
       " 'Sunny': np.float64(0.36363636363636365)}"
      ]
     },
     "execution_count": 20,
     "metadata": {},
     "output_type": "execute_result"
    }
   ],
   "source": [
    "print(\"--- Calculated Likelihoods (P(Outlook | Play Golf=Yes)) ---\")\n",
    "print(\"P_Rainy\",2/8)\n",
    "print(\"P_Overcast\",3/8)\n",
    "print(\"P_Sunny\",3/8)\n",
    "\n",
    "\n",
    "calculate_likelihoods_smoothed(\"Outlook\", df_train_yes, yes_train_count, df_full)"
   ]
  },
  {
   "cell_type": "code",
   "execution_count": null,
   "id": "d7beb618",
   "metadata": {},
   "outputs": [],
   "source": []
  },
  {
   "cell_type": "code",
   "execution_count": 21,
   "id": "c20db415",
   "metadata": {},
   "outputs": [
    {
     "name": "stdout",
     "output_type": "stream",
     "text": [
      "--- Calculated Likelihoods (P(Outlook | Play Golf=No)) ---\n",
      "P_Rainy 0.75\n",
      "P_Overcast 0\n",
      "P_Sunny 0.25\n"
     ]
    },
    {
     "data": {
      "text/plain": [
       "{'Rainy': np.float64(0.5714285714285714),\n",
       " 'Overcast': 0.14285714285714285,\n",
       " 'Sunny': np.float64(0.2857142857142857)}"
      ]
     },
     "execution_count": 21,
     "metadata": {},
     "output_type": "execute_result"
    }
   ],
   "source": [
    "print(\"--- Calculated Likelihoods (P(Outlook | Play Golf=No)) ---\")\n",
    "print(\"P_Rainy\",3/4)\n",
    "print(\"P_Overcast\",0)\n",
    "print(\"P_Sunny\",1/4)\n",
    "\n",
    "\n",
    "calculate_likelihoods_smoothed(\"Outlook\", df_train_no, no_train_count, df_full)"
   ]
  },
  {
   "cell_type": "markdown",
   "id": "d7e496ef",
   "metadata": {},
   "source": [
    "### Training in Navie Bayes Algorithm"
   ]
  },
  {
   "cell_type": "code",
   "execution_count": 22,
   "id": "d05a8956",
   "metadata": {},
   "outputs": [
    {
     "name": "stdout",
     "output_type": "stream",
     "text": [
      "--- Likelihoods (P(Feature_Value | Play Golf=Yes)) ---\n",
      "Outlook\n",
      "Outlook: {'Rainy': np.float64(0.2727272727272727), 'Overcast': np.float64(0.36363636363636365), 'Sunny': np.float64(0.36363636363636365)}\n",
      "Temperature\n",
      "Temperature: {'Hot': np.float64(0.18181818181818182), 'Mild': np.float64(0.45454545454545453), 'Cool': np.float64(0.36363636363636365)}\n",
      "Humidity\n",
      "Humidity: {'High': np.float64(0.4), 'Normal': np.float64(0.6)}\n",
      "Windy\n",
      "Windy: {'False': np.float64(0.6), 'True': np.float64(0.4)}\n",
      "\n",
      "--- Likelihoods (P(Feature_Value | Play Golf=No)) ---\n",
      "Outlook: {'Rainy': np.float64(0.5714285714285714), 'Overcast': 0.14285714285714285, 'Sunny': np.float64(0.2857142857142857)}\n",
      "Temperature: {'Hot': np.float64(0.42857142857142855), 'Mild': np.float64(0.2857142857142857), 'Cool': np.float64(0.2857142857142857)}\n",
      "Humidity: {'High': np.float64(0.6666666666666666), 'Normal': np.float64(0.3333333333333333)}\n",
      "Windy: {'False': np.float64(0.5), 'True': np.float64(0.5)}\n"
     ]
    }
   ],
   "source": [
    "\n",
    "likelihoods_yes = {}\n",
    "likelihoods_no = {}\n",
    "\n",
    "print(\"--- Likelihoods (P(Feature_Value | Play Golf=Yes)) ---\")\n",
    "for feature in features:\n",
    "    print(feature)\n",
    "    likelihoods_yes[feature] = calculate_likelihoods_smoothed(feature, df_train_yes, yes_train_count, df_full)\n",
    "    print(f\"{feature}: {likelihoods_yes[feature]}\")\n",
    "\n",
    "\n",
    "print()\n",
    "print(\"--- Likelihoods (P(Feature_Value | Play Golf=No)) ---\")\n",
    "for feature in features:\n",
    "    likelihoods_no[feature] = calculate_likelihoods_smoothed(feature, df_train_no, no_train_count, df_full)\n",
    "    print(f\"{feature}: {likelihoods_no[feature]}\")"
   ]
  },
  {
   "cell_type": "code",
   "execution_count": 23,
   "id": "627829d5",
   "metadata": {},
   "outputs": [
    {
     "data": {
      "text/html": [
       "<div>\n",
       "<style scoped>\n",
       "    .dataframe tbody tr th:only-of-type {\n",
       "        vertical-align: middle;\n",
       "    }\n",
       "\n",
       "    .dataframe tbody tr th {\n",
       "        vertical-align: top;\n",
       "    }\n",
       "\n",
       "    .dataframe thead th {\n",
       "        text-align: right;\n",
       "    }\n",
       "</style>\n",
       "<table border=\"1\" class=\"dataframe\">\n",
       "  <thead>\n",
       "    <tr style=\"text-align: right;\">\n",
       "      <th></th>\n",
       "      <th>Outlook</th>\n",
       "      <th>Temperature</th>\n",
       "      <th>Humidity</th>\n",
       "      <th>Windy</th>\n",
       "      <th>Play Golf</th>\n",
       "    </tr>\n",
       "  </thead>\n",
       "  <tbody>\n",
       "    <tr>\n",
       "      <th>12</th>\n",
       "      <td>Overcast</td>\n",
       "      <td>Hot</td>\n",
       "      <td>Normal</td>\n",
       "      <td>False</td>\n",
       "      <td>Yes</td>\n",
       "    </tr>\n",
       "    <tr>\n",
       "      <th>13</th>\n",
       "      <td>Sunny</td>\n",
       "      <td>Mild</td>\n",
       "      <td>High</td>\n",
       "      <td>True</td>\n",
       "      <td>No</td>\n",
       "    </tr>\n",
       "  </tbody>\n",
       "</table>\n",
       "</div>"
      ],
      "text/plain": [
       "     Outlook Temperature Humidity  Windy Play Golf\n",
       "12  Overcast         Hot   Normal  False       Yes\n",
       "13     Sunny        Mild     High   True        No"
      ]
     },
     "execution_count": 23,
     "metadata": {},
     "output_type": "execute_result"
    }
   ],
   "source": [
    "df_test"
   ]
  },
  {
   "cell_type": "markdown",
   "id": "53f9a65c",
   "metadata": {},
   "source": [
    "### Predictions"
   ]
  },
  {
   "cell_type": "code",
   "execution_count": 24,
   "id": "5997bf7d",
   "metadata": {},
   "outputs": [
    {
     "name": "stdout",
     "output_type": "stream",
     "text": [
      "ith_data :  {'Outlook': 'Overcast', 'Temperature': 'Hot', 'Humidity': 'Normal', 'Windy': 'False'}\n",
      "True label: Yes, Predicted label: Yes\n",
      "ith_data :  {'Outlook': 'Sunny', 'Temperature': 'Mild', 'Humidity': 'High', 'Windy': 'True'}\n",
      "True label: No, Predicted label: Yes\n"
     ]
    }
   ],
   "source": [
    "for index, row in df_test.iterrows():\n",
    "    ith_data = row[features].to_dict()\n",
    "    print(\"ith_data : \",ith_data)\n",
    "\n",
    "    true_label = row[target]\n",
    "\n",
    "    P_Play_Golf_Yes = P_Yes\n",
    "    P_Play_Golf_No = P_No\n",
    "\n",
    "    # Calcuate probability for Yes\n",
    "    p_outlook_yes = likelihoods_yes['Outlook'][ith_data['Outlook']]\n",
    "    p_temperature_yes = likelihoods_yes['Temperature'][ith_data['Temperature']]\n",
    "    p_humidity_yes = likelihoods_yes['Humidity'][ith_data['Humidity']]\n",
    "    p_windy_yes = likelihoods_yes['Windy'][ith_data['Windy']]\n",
    "\n",
    "\n",
    "\n",
    "    # Calcuate probability for No\n",
    "    p_outlook_no = likelihoods_no['Outlook'][ith_data['Outlook']]\n",
    "    p_temperature_no = likelihoods_no['Temperature'][ith_data['Temperature']]\n",
    "    p_humidity_no = likelihoods_no['Humidity'][ith_data['Humidity']]\n",
    "    p_windy_no = likelihoods_no['Windy'][ith_data['Windy']]\n",
    "\n",
    "\n",
    "    P_Play_Golf_Yes = P_Yes * p_outlook_yes * p_temperature_yes * p_humidity_yes * p_windy_yes\n",
    "    P_Play_Golf_No = P_No * p_outlook_no * p_temperature_no * p_humidity_no * p_windy_no\n",
    "\n",
    "\n",
    "\n",
    "    if P_Play_Golf_Yes > P_Play_Golf_No:\n",
    "        predicted_label = 'Yes'\n",
    "    else:\n",
    "        predicted_label = 'No'\n",
    "\n",
    "    print(f\"True label: {true_label}, Predicted label: {predicted_label}\")\n",
    "\n",
    "    "
   ]
  },
  {
   "cell_type": "markdown",
   "id": "6b729f55",
   "metadata": {},
   "source": [
    "### Why we remove the step of dividing with Overall Feature P?\n",
    "\n",
    "Let's look at the full Bayes' Theorem for a given class $k$ and a set of features $F = \\{f_1, f_2, \\dots, f_n\\}$:\n",
    "\n",
    "$$P(\\text{Class } k | F) = \\frac{P(F | \\text{Class } k) \\cdot P(\\text{Class } k)}{P(F)}$$\n",
    "\n",
    "When we're trying to classify a new instance, we calculate this value for **every possible class** and then pick the class that yields the maximum value.\n",
    "\n",
    "For example, if you have two classes, \"Yes\" and \"No\", you'd calculate:\n",
    "\n",
    "$P(\\text{Yes } | F) = \\frac{P(F | \\text{Yes}) \\cdot P(\\text{Yes})}{P(F)}$\n",
    "\n",
    "$P(\\text{No } | F) = \\frac{P(F | \\text{No}) \\cdot P(\\text{No})}{P(F)}$\n",
    "\n",
    "Notice that the denominator, $P(F)$, is the **same for both equations**. It's a constant value for the given set of features $F$ you are trying to classify.\n",
    "\n",
    "When you're comparing two values:\n",
    "\n",
    "Is $\\frac{A}{C} > \\frac{B}{C}$?\n",
    "\n",
    "This is equivalent to asking:\n",
    "\n",
    "Is $A > B$? (assuming $C$ is a positive constant, which probabilities always are)\n",
    "\n",
    "Since $P(F)$ is a positive constant, dividing by it doesn't change the **relative order** of the posterior probabilities. If $P(\\text{Class } A | F)$ is greater than $P(\\text{Class } B | F)$ with $P(F)$ included, it will still be greater without $P(F)$.\n",
    "\n",
    "Therefore, to save on computation (as calculating $P(F)$ can be complex, often requiring summing over all possible classes), we simplify the comparison to:\n",
    "\n",
    "**Choose the Class $k$ that maximizes:**\n",
    "\n",
    "$$P(\\text{Class } k) \\cdot P(f_1 | \\text{Class } k) \\cdot P(f_2 | \\text{Class } k) \\cdot \\dots \\cdot P(f_n | \\text{Class } k)$$\n",
    "\n",
    "This is why we use the proportionality symbol ($\\propto$) in the simplified Naive Bayes formula. We are essentially maximizing the numerator of Bayes' Theorem, as the denominator doesn't affect the final class decision."
   ]
  },
  {
   "cell_type": "code",
   "execution_count": null,
   "id": "2182804a",
   "metadata": {
    "vscode": {
     "languageId": "markdown"
    }
   },
   "outputs": [],
   "source": []
  }
 ],
 "metadata": {
  "kernelspec": {
   "display_name": "5_machine_learning-jSR4KDVE",
   "language": "python",
   "name": "python3"
  },
  "language_info": {
   "codemirror_mode": {
    "name": "ipython",
    "version": 3
   },
   "file_extension": ".py",
   "mimetype": "text/x-python",
   "name": "python",
   "nbconvert_exporter": "python",
   "pygments_lexer": "ipython3",
   "version": "3.10.16"
  }
 },
 "nbformat": 4,
 "nbformat_minor": 5
}
