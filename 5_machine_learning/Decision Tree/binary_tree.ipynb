{
 "cells": [
  {
   "cell_type": "code",
   "execution_count": 1,
   "id": "3677b024",
   "metadata": {},
   "outputs": [],
   "source": [
    "# Define a Node of the binary tree\n",
    "class Node:\n",
    "    def __init__(self, value):\n",
    "        self.value = value\n",
    "        self.left = None\n",
    "        self.right = None\n",
    "\n"
   ]
  },
  {
   "cell_type": "code",
   "execution_count": 2,
   "id": "255155be",
   "metadata": {},
   "outputs": [],
   "source": [
    "# Define the Binary Tree\n",
    "class BinaryTree:\n",
    "    def __init__(self, root_value):\n",
    "        self.root = Node(root_value)\n",
    "\n",
    "    # Example method: insert a node (manual, not BST-style)\n",
    "    def insert_left(self, current_node, value):\n",
    "        current_node.left = Node(value)\n",
    "        return current_node.left\n",
    "\n",
    "    def insert_right(self, current_node, value):\n",
    "        current_node.right = Node(value)\n",
    "        return current_node.right\n",
    "\n",
    "    # Example method: In-order Traversal (Left -> Root -> Right)\n",
    "    def inorder_traversal(self, node):\n",
    "        if node is not None:\n",
    "            self.inorder_traversal(node.left)\n",
    "            print(node.value, end=' ')\n",
    "            self.inorder_traversal(node.right)\n"
   ]
  },
  {
   "cell_type": "code",
   "execution_count": 3,
   "id": "44e0cdb5",
   "metadata": {},
   "outputs": [
    {
     "data": {
      "text/plain": [
       "<__main__.Node at 0x103510940>"
      ]
     },
     "execution_count": 3,
     "metadata": {},
     "output_type": "execute_result"
    }
   ],
   "source": [
    "# Create the tree\n",
    "tree = BinaryTree(1)\n",
    "\n",
    "# Add nodes\n",
    "left_child = tree.insert_left(tree.root, 2)\n",
    "right_child = tree.insert_right(tree.root, 3)\n",
    "tree.insert_left(left_child, 4)\n",
    "tree.insert_right(left_child, 5)"
   ]
  },
  {
   "cell_type": "code",
   "execution_count": 4,
   "id": "c7f8068b",
   "metadata": {},
   "outputs": [
    {
     "name": "stdout",
     "output_type": "stream",
     "text": [
      "In-order traversal:\n",
      "4 2 5 1 3 "
     ]
    }
   ],
   "source": [
    "print(\"In-order traversal:\")\n",
    "tree.inorder_traversal(tree.root)"
   ]
  },
  {
   "cell_type": "code",
   "execution_count": null,
   "id": "8e2469a9",
   "metadata": {},
   "outputs": [],
   "source": []
  }
 ],
 "metadata": {
  "kernelspec": {
   "display_name": "5_machine_learning-jSR4KDVE",
   "language": "python",
   "name": "python3"
  },
  "language_info": {
   "codemirror_mode": {
    "name": "ipython",
    "version": 3
   },
   "file_extension": ".py",
   "mimetype": "text/x-python",
   "name": "python",
   "nbconvert_exporter": "python",
   "pygments_lexer": "ipython3",
   "version": "3.10.16"
  }
 },
 "nbformat": 4,
 "nbformat_minor": 5
}
