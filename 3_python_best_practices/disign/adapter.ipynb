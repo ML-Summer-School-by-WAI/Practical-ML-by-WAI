{
 "cells": [
  {
   "cell_type": "code",
   "execution_count": 29,
   "id": "fda1fc95",
   "metadata": {},
   "outputs": [
    {
     "name": "stdout",
     "output_type": "stream",
     "text": [
      "Your Sudent ID is: ML_Summer_School_THS\n"
     ]
    }
   ],
   "source": [
    "import os\n",
    "from dotenv import load_dotenv\n",
    "load_dotenv()\n",
    "\n",
    "ML_Summer_School_ID = os.getenv('ML_Summer_School_ID')\n",
    "print(\"Your Sudent ID is: \" + ML_Summer_School_ID)"
   ]
  },
  {
   "cell_type": "markdown",
   "id": "d0801f0e",
   "metadata": {},
   "source": [
    "### Adapter\n",
    "Imagine a power plug adapter: it allows your phone charger (designed for one type of socket) to work with a different wall socket. The interface doesn’t match, but the functionality is adapted."
   ]
  },
  {
   "cell_type": "code",
   "execution_count": 30,
   "id": "5c39c2b8",
   "metadata": {},
   "outputs": [],
   "source": [
    "class OldPrinter:\n",
    "    def old_print(self, message):\n",
    "        print(f\"OldPrinter: {message}\")\n"
   ]
  },
  {
   "cell_type": "code",
   "execution_count": 31,
   "id": "8e753319",
   "metadata": {},
   "outputs": [],
   "source": [
    "class NewPrinter:\n",
    "    def print(self, message):\n",
    "        print(f\"NewPrinter: {message}\")\n"
   ]
  },
  {
   "cell_type": "code",
   "execution_count": 32,
   "id": "9f32253b",
   "metadata": {},
   "outputs": [],
   "source": [
    "class PrinterAdapter:\n",
    "    def __init__(self, old_printer):\n",
    "        self.old_printer = old_printer\n",
    "\n",
    "    def print(self, message):\n",
    "        # Adapt old_print to print\n",
    "        self.old_printer.old_print(message)\n"
   ]
  },
  {
   "cell_type": "code",
   "execution_count": 34,
   "id": "0919509f",
   "metadata": {},
   "outputs": [
    {
     "name": "stdout",
     "output_type": "stream",
     "text": [
      "NewPrinter: ML_Summer_School_THS\n",
      "OldPrinter: ML_Summer_School_THS\n"
     ]
    }
   ],
   "source": [
    "def client_code(printer):\n",
    "    printer.print(f\"{ML_Summer_School_ID}\")\n",
    "\n",
    "# Using the new printer directly\n",
    "new_printer = NewPrinter()\n",
    "client_code(new_printer)\n",
    "\n",
    "# Using the old printer through the adapter\n",
    "old_printer = OldPrinter()\n",
    "adapter = PrinterAdapter(old_printer)\n",
    "client_code(adapter)\n",
    "\n"
   ]
  },
  {
   "cell_type": "markdown",
   "id": "5abb03a9",
   "metadata": {},
   "source": [
    "### Machine Learning Use Case"
   ]
  },
  {
   "cell_type": "code",
   "execution_count": 35,
   "id": "7224698b",
   "metadata": {},
   "outputs": [],
   "source": [
    "from abc import ABC, abstractmethod\n",
    "import numpy as np\n",
    "class Model(ABC):\n",
    "    @abstractmethod\n",
    "    def predict(self, data):\n",
    "        pass"
   ]
  },
  {
   "cell_type": "code",
   "execution_count": 36,
   "id": "73350dd9",
   "metadata": {},
   "outputs": [],
   "source": [
    "# Scikit-learn model (already compatible)\n",
    "from sklearn.linear_model import LogisticRegression\n",
    "\n",
    "class SklearnModel:\n",
    "    def __init__(self):\n",
    "        self.model = LogisticRegression()\n",
    "        # self.model.fit(...)  # normally you'd train the model\n",
    "        # For demonstration, we'll \"fake\" training\n",
    "        self.model.coef_ = np.array([[1, 1, 1, 1]])\n",
    "        self.model.intercept_ = np.array([0])\n",
    "        self.model.classes_ = np.array([0, 1])\n",
    "\n",
    "    def predict(self, data):\n",
    "        return self.model.predict(data)"
   ]
  },
  {
   "cell_type": "code",
   "execution_count": 37,
   "id": "36cbf9cd",
   "metadata": {},
   "outputs": [],
   "source": [
    "import tensorflow as tf\n",
    "\n",
    "class TFModel:\n",
    "    def __init__(self):\n",
    "        self.model = tf.keras.Sequential([\n",
    "            tf.keras.layers.Dense(1, input_shape=(4,), activation='sigmoid')\n",
    "        ])\n",
    "        # self.model.compile(...) + self.model.fit(...)  # training skipped\n",
    "        # Fake weights for TF model\n",
    "        self.model.build()\n",
    "        self.model.set_weights([\n",
    "            np.ones((4, 1)),  # weights\n",
    "            np.zeros((1,))    # bias\n",
    "        ])\n",
    "\n",
    "    def predict_tensor(self, tensor_input):\n",
    "        return self.model(tensor_input).numpy()"
   ]
  },
  {
   "cell_type": "code",
   "execution_count": 38,
   "id": "4f88c743",
   "metadata": {},
   "outputs": [],
   "source": [
    "import numpy as np\n",
    "\n",
    "class TensorFlowAdapter(Model):\n",
    "    def __init__(self, tf_model):\n",
    "        self.tf_model = tf_model\n",
    "\n",
    "    def predict(self, data):\n",
    "        # Convert data (assume NumPy or list) to Tensor\n",
    "        tensor_input = tf.convert_to_tensor(data, dtype=tf.float32)\n",
    "        return self.tf_model.predict_tensor(tensor_input)\n"
   ]
  },
  {
   "cell_type": "code",
   "execution_count": 39,
   "id": "d985d94e",
   "metadata": {},
   "outputs": [],
   "source": [
    "def evaluate_model(model: Model, data):\n",
    "    predictions = model.predict(data)\n",
    "    print(\"Predictions:\", predictions)"
   ]
  },
  {
   "cell_type": "code",
   "execution_count": 40,
   "id": "c65af94e",
   "metadata": {},
   "outputs": [
    {
     "name": "stdout",
     "output_type": "stream",
     "text": [
      "Predictions: [1]\n"
     ]
    }
   ],
   "source": [
    "sample_data = np.array([[1, 2, 3, 4]])\n",
    "sk_model = SklearnModel()\n",
    "evaluate_model(sk_model, sample_data)"
   ]
  },
  {
   "cell_type": "code",
   "execution_count": 41,
   "id": "4828ae04",
   "metadata": {},
   "outputs": [
    {
     "name": "stdout",
     "output_type": "stream",
     "text": [
      "Predictions: [[0.9999546]]\n"
     ]
    },
    {
     "name": "stderr",
     "output_type": "stream",
     "text": [
      "/opt/anaconda3/envs/ths_dev/lib/python3.10/site-packages/keras/src/layers/core/dense.py:87: UserWarning: Do not pass an `input_shape`/`input_dim` argument to a layer. When using Sequential models, prefer using an `Input(shape)` object as the first layer in the model instead.\n",
      "  super().__init__(activity_regularizer=activity_regularizer, **kwargs)\n"
     ]
    }
   ],
   "source": [
    "tf_model = TFModel()\n",
    "adapter = TensorFlowAdapter(tf_model)\n",
    "evaluate_model(adapter, sample_data)"
   ]
  },
  {
   "cell_type": "code",
   "execution_count": null,
   "id": "bffc0be9",
   "metadata": {},
   "outputs": [],
   "source": []
  }
 ],
 "metadata": {
  "kernelspec": {
   "display_name": "ths_dev",
   "language": "python",
   "name": "python3"
  },
  "language_info": {
   "codemirror_mode": {
    "name": "ipython",
    "version": 3
   },
   "file_extension": ".py",
   "mimetype": "text/x-python",
   "name": "python",
   "nbconvert_exporter": "python",
   "pygments_lexer": "ipython3",
   "version": "3.10.16"
  }
 },
 "nbformat": 4,
 "nbformat_minor": 5
}
