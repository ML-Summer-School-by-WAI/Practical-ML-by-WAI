{
 "cells": [
  {
   "cell_type": "code",
   "execution_count": 14,
   "id": "337c70c8",
   "metadata": {},
   "outputs": [
    {
     "name": "stdout",
     "output_type": "stream",
     "text": [
      "Your Sudent ID is: ML_Summer_School_THS\n"
     ]
    }
   ],
   "source": [
    "import os\n",
    "from dotenv import load_dotenv\n",
    "load_dotenv()\n",
    "\n",
    "ML_Summer_School_ID = os.getenv('ML_Summer_School_ID')\n",
    "print(\"Your Sudent ID is: \" + ML_Summer_School_ID)"
   ]
  },
  {
   "cell_type": "markdown",
   "id": "aaaf827f",
   "metadata": {},
   "source": [
    "### Simple Factory Usage"
   ]
  },
  {
   "cell_type": "code",
   "execution_count": 15,
   "id": "84e74d00",
   "metadata": {},
   "outputs": [],
   "source": [
    "class sqlConnection:\n",
    "    def __init__(self):\n",
    "        \n",
    "        self.name = 'sqlConnection'\n",
    " \n",
    "    def create(self):\n",
    "        print(self.name)\n",
    "\n",
    "class pgConnection:\n",
    "    def __init__(self):\n",
    "        self.name = 'pgConnection'\n",
    "\n",
    "\n",
    "    def create(self):\n",
    "        print(self.name)"
   ]
  },
  {
   "cell_type": "code",
   "execution_count": 16,
   "id": "31f8d1a6",
   "metadata": {},
   "outputs": [],
   "source": [
    "class SimpleFactory:\n",
    "    def __init__(self):  \n",
    "        pass\n",
    "\n",
    "    def getConnection(self, connectionType):     \n",
    "        if connectionType == 'sql':\n",
    "            return sqlConnection()\n",
    "        elif connectionType == 'postgress':\n",
    "            return pgConnection()"
   ]
  },
  {
   "cell_type": "code",
   "execution_count": 17,
   "id": "c40dfcf5",
   "metadata": {},
   "outputs": [
    {
     "name": "stdout",
     "output_type": "stream",
     "text": [
      "pgConnection\n",
      "sqlConnection\n"
     ]
    }
   ],
   "source": [
    "## simple factory\n",
    "sf = SimpleFactory().getConnection('postgress')\n",
    "sf.create()\n",
    "\n",
    "\n",
    "\n",
    "sf = SimpleFactory().getConnection('sql')\n",
    "sf.create()"
   ]
  },
  {
   "cell_type": "markdown",
   "id": "4097328b",
   "metadata": {},
   "source": [
    "### Factory Method"
   ]
  },
  {
   "cell_type": "code",
   "execution_count": 18,
   "id": "7a222323",
   "metadata": {},
   "outputs": [],
   "source": [
    "from abc import ABC, abstractmethod\n",
    "class Connection(ABC):\n",
    "    def __init__(self):\n",
    "        self.stu_name = f\"{ML_Summer_School_ID}\"\n",
    "        super().__init__()\n",
    "\n",
    "        \n",
    "    @abstractmethod\n",
    "    def create(self):\n",
    "        pass\n",
    "\n",
    "class SqlConnection(Connection):\n",
    "    def __init__(self):\n",
    "        super().__init__()\n",
    "        self.name = 'SqlConnection' \n",
    " \n",
    "    def create(self):\n",
    "        print(f\"Account : {self.stu_name}\")\n",
    "        print(f\"Creating {self.name} instance.\")\n",
    "\n",
    "\n",
    "class PgConnection(Connection):\n",
    "    def __init__(self):\n",
    "        super().__init__()\n",
    "        self.name = 'PgConnection' \n",
    " \n",
    "    def create(self):\n",
    "        print(f\"Account : {self.stu_name}\")\n",
    "        print(f\"Creating {self.name} instance.\")"
   ]
  },
  {
   "cell_type": "code",
   "execution_count": 19,
   "id": "5bac0351",
   "metadata": {},
   "outputs": [],
   "source": [
    "class sqlFactory(Connection):\n",
    "    def __init__(self):\n",
    "        super().__init__()\n",
    "\n",
    "    def create(self):\n",
    "        return SqlConnection()\n",
    "    \n",
    "\n",
    "class pgFactory(Connection):\n",
    "    def create(self):\n",
    "        return PgConnection()"
   ]
  },
  {
   "cell_type": "code",
   "execution_count": 20,
   "id": "e413d324",
   "metadata": {},
   "outputs": [],
   "source": [
    "def getProperConnection(factory : Connection):\n",
    "    # you can add additional checks here\n",
    "    return factory.create()"
   ]
  },
  {
   "cell_type": "code",
   "execution_count": 21,
   "id": "dc0e9110",
   "metadata": {},
   "outputs": [
    {
     "name": "stdout",
     "output_type": "stream",
     "text": [
      "Account : ML_Summer_School_THS\n",
      "Creating SqlConnection instance.\n"
     ]
    }
   ],
   "source": [
    "connection =  getProperConnection(sqlFactory()) \n",
    "connection.create()"
   ]
  },
  {
   "cell_type": "code",
   "execution_count": 22,
   "id": "20d0d857",
   "metadata": {},
   "outputs": [
    {
     "name": "stdout",
     "output_type": "stream",
     "text": [
      "Account : ML_Summer_School_THS\n",
      "Creating PgConnection instance.\n"
     ]
    }
   ],
   "source": [
    "connection = getProperConnection(pgFactory())\n",
    "connection.create()"
   ]
  },
  {
   "cell_type": "markdown",
   "id": "df72481e",
   "metadata": {},
   "source": [
    "### Machine Learning Use Case"
   ]
  },
  {
   "cell_type": "code",
   "execution_count": 31,
   "id": "6c2e9e65",
   "metadata": {},
   "outputs": [],
   "source": [
    "from abc import ABC, abstractmethod\n",
    "import pandas as pd\n",
    "\n",
    "class DataLoader(ABC):\n",
    "    @abstractmethod\n",
    "    def load_data(self) -> pd.DataFrame:\n",
    "        pass"
   ]
  },
  {
   "cell_type": "code",
   "execution_count": 32,
   "id": "95381b13",
   "metadata": {},
   "outputs": [],
   "source": [
    "class CSVDataLoader(DataLoader):\n",
    "    def __init__(self, path):\n",
    "        self.path = path\n",
    "\n",
    "    def load_data(self):\n",
    "        print(f\"Loading data from CSV: {self.path}\")\n",
    "        return pd.read_csv(self.path)\n",
    "    \n",
    "\n",
    "class SQLDataLoader(DataLoader):\n",
    "    def load_data(self):\n",
    "        print(\"Loading data from SQL  (FAKE)\")\n",
    "        return pd.DataFrame({\n",
    "            \"feature1\": [1, 2, 3],\n",
    "            \"feature2\": [4, 5, 6],\n",
    "            \"label\": [0, 1, 0]\n",
    "        })\n",
    "    \n",
    "\n",
    "class StreamDataLoader(DataLoader):\n",
    "    def load_data(self):\n",
    "        print(\"Loading data from Stream eg: Kafka(FAKE)\")\n",
    "        return pd.DataFrame({\n",
    "            \"feature1\": [10, 20, 30],\n",
    "            \"feature2\": [0.1, 0.2, 0.3],\n",
    "            \"label\": [1, 0, 1]\n",
    "        })"
   ]
  },
  {
   "cell_type": "code",
   "execution_count": 33,
   "id": "7a0fa423",
   "metadata": {},
   "outputs": [],
   "source": [
    "class DataLoaderFactory(ABC):\n",
    "    @abstractmethod\n",
    "    def create_loader(self) -> DataLoader:\n",
    "        pass"
   ]
  },
  {
   "cell_type": "code",
   "execution_count": 34,
   "id": "61f3b29b",
   "metadata": {},
   "outputs": [],
   "source": [
    "class CSVDataLoaderFactory(DataLoaderFactory):\n",
    "    def __init__(self, path):\n",
    "        self.path = path\n",
    "\n",
    "    def create_loader(self):\n",
    "        return CSVDataLoader(self.path)\n",
    "\n",
    "\n",
    "class SQLDataLoaderFactory(DataLoaderFactory):\n",
    "    def create_loader(self):\n",
    "        return SQLDataLoader()\n",
    "\n",
    "\n",
    "class StreamDataLoaderFactory(DataLoaderFactory):\n",
    "    def create_loader(self):\n",
    "        return StreamDataLoader()"
   ]
  },
  {
   "cell_type": "code",
   "execution_count": 35,
   "id": "5d5fba09",
   "metadata": {},
   "outputs": [],
   "source": [
    "def run_training(factory: DataLoaderFactory):\n",
    "    loader = factory.create_loader()\n",
    "    data = loader.load_data()\n",
    "    print(f\"Data loaded:\\n{data.head()}\\n\")"
   ]
  },
  {
   "cell_type": "code",
   "execution_count": 36,
   "id": "f909f7ed",
   "metadata": {},
   "outputs": [
    {
     "name": "stdout",
     "output_type": "stream",
     "text": [
      "Loading data from Stream eg: Kafka(FAKE)\n",
      "Data loaded:\n",
      "   feature1  feature2  label\n",
      "0        10       0.1      1\n",
      "1        20       0.2      0\n",
      "2        30       0.3      1\n",
      "\n"
     ]
    }
   ],
   "source": [
    "run_training(StreamDataLoaderFactory())\n",
    "\n"
   ]
  },
  {
   "cell_type": "code",
   "execution_count": 37,
   "id": "869f778b",
   "metadata": {},
   "outputs": [
    {
     "name": "stdout",
     "output_type": "stream",
     "text": [
      "Loading data from SQL  (FAKE)\n",
      "Data loaded:\n",
      "   feature1  feature2  label\n",
      "0         1         4      0\n",
      "1         2         5      1\n",
      "2         3         6      0\n",
      "\n"
     ]
    }
   ],
   "source": [
    "run_training(SQLDataLoaderFactory())"
   ]
  },
  {
   "cell_type": "code",
   "execution_count": 38,
   "id": "36d1a6bd",
   "metadata": {},
   "outputs": [
    {
     "name": "stdout",
     "output_type": "stream",
     "text": [
      "Loading data from CSV: data.csv\n",
      "Data loaded:\n",
      "   feature1   feature2    label\n",
      "0         10        0.1       1\n",
      "1         20        0.2       0\n",
      "2         30        0.3       1\n",
      "\n"
     ]
    }
   ],
   "source": [
    "run_training(CSVDataLoaderFactory(\"data.csv\"))"
   ]
  },
  {
   "cell_type": "code",
   "execution_count": null,
   "id": "76ad0ef7",
   "metadata": {},
   "outputs": [],
   "source": []
  },
  {
   "cell_type": "code",
   "execution_count": null,
   "id": "0b689376",
   "metadata": {},
   "outputs": [],
   "source": []
  }
 ],
 "metadata": {
  "kernelspec": {
   "display_name": "ths_dev",
   "language": "python",
   "name": "python3"
  },
  "language_info": {
   "codemirror_mode": {
    "name": "ipython",
    "version": 3
   },
   "file_extension": ".py",
   "mimetype": "text/x-python",
   "name": "python",
   "nbconvert_exporter": "python",
   "pygments_lexer": "ipython3",
   "version": "3.10.16"
  }
 },
 "nbformat": 4,
 "nbformat_minor": 5
}
