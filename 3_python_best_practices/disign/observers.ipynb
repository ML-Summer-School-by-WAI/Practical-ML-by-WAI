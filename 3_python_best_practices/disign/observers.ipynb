{
 "cells": [
  {
   "cell_type": "code",
   "execution_count": 15,
   "id": "0079f5e7",
   "metadata": {},
   "outputs": [
    {
     "name": "stdout",
     "output_type": "stream",
     "text": [
      "Your Sudent ID is: ML_Summer_School_THS\n"
     ]
    }
   ],
   "source": [
    "import os\n",
    "from dotenv import load_dotenv\n",
    "load_dotenv()\n",
    "\n",
    "ML_Summer_School_ID = os.getenv('ML_Summer_School_ID')\n",
    "print(\"Your Sudent ID is: \" + ML_Summer_School_ID)"
   ]
  },
  {
   "cell_type": "markdown",
   "id": "5965d7b0",
   "metadata": {},
   "source": [
    "## Observers-obserable Pattern\n",
    "#### Real-world Analogy\n",
    "- Think of a YouTube channel (Subject) and subscribers (Observers). When the channel uploads a new video, all subscribers get notified.\n",
    "\n",
    "#### Key Concepts\n",
    "- Subject: Maintains a list of observers. Notifies them of state changes.\n",
    "\n",
    "- Observer: Defines an interface to update the object when the subject changes."
   ]
  },
  {
   "cell_type": "code",
   "execution_count": 16,
   "id": "0a0e41ae",
   "metadata": {},
   "outputs": [],
   "source": [
    "# Observer interface\n",
    "class Observer:\n",
    "    def update(self, message):\n",
    "        pass\n",
    "\n",
    "# Subject class\n",
    "class Subject:\n",
    "    def __init__(self):\n",
    "        self._observers = []\n",
    "\n",
    "    def attach(self, observer):\n",
    "        self._observers.append(observer)\n",
    "\n",
    "    def detach(self, observer):\n",
    "        self._observers.remove(observer)\n",
    "\n",
    "    def notify(self, message):\n",
    "        for observer in self._observers:\n",
    "            observer.update(message)"
   ]
  },
  {
   "cell_type": "code",
   "execution_count": 17,
   "id": "96bc2eb8",
   "metadata": {},
   "outputs": [],
   "source": [
    "# Concrete observer classes\n",
    "class EmailSubscriber(Observer):\n",
    "    def update(self, message):\n",
    "        print(f\"Email Subscriber received: {message}\")\n",
    "\n",
    "class SMSSubscriber(Observer):\n",
    "    def update(self, message):\n",
    "        print(f\"SMS Subscriber received: {message}\")"
   ]
  },
  {
   "cell_type": "code",
   "execution_count": 18,
   "id": "111aff4b",
   "metadata": {},
   "outputs": [],
   "source": [
    "subject = Subject()\n",
    "\n",
    "email_subscriber = EmailSubscriber()\n",
    "sms_subscriber = SMSSubscriber()\n",
    "\n",
    "subject.attach(email_subscriber)\n",
    "subject.attach(sms_subscriber)"
   ]
  },
  {
   "cell_type": "code",
   "execution_count": 21,
   "id": "3ac418f8",
   "metadata": {},
   "outputs": [
    {
     "name": "stdout",
     "output_type": "stream",
     "text": [
      "Email Subscriber received: ML_Summer_School_THS- Hello\n",
      "SMS Subscriber received: ML_Summer_School_THS- Hello\n"
     ]
    }
   ],
   "source": [
    "subject.notify(f\"{ML_Summer_School_ID}- Hello\")\n"
   ]
  },
  {
   "cell_type": "markdown",
   "id": "f44221ac",
   "metadata": {},
   "source": [
    "### Machine Learning Use Case"
   ]
  },
  {
   "cell_type": "code",
   "execution_count": 22,
   "id": "082716ff",
   "metadata": {},
   "outputs": [],
   "source": [
    "class Trainer:\n",
    "    def __init__(self):\n",
    "        self.observers = []\n",
    "        self.epoch = 0\n",
    "\n",
    "    def attach(self, observer):\n",
    "        self.observers.append(observer)\n",
    "\n",
    "    def detach(self, observer):\n",
    "        self.observers.remove(observer)\n",
    "\n",
    "    def notify(self, metrics):\n",
    "        for observer in self.observers:\n",
    "            observer.update(self.epoch, metrics)\n",
    "\n",
    "    def train(self, epochs=3):\n",
    "        for e in range(1, epochs + 1):\n",
    "            self.epoch = e\n",
    "            # Simulate training metrics\n",
    "            loss = 0.01 * (epochs - e)\n",
    "            acc = 0.5 + 0.1 * e\n",
    "            metrics = {'loss': loss, 'accuracy': acc}\n",
    "\n",
    "            self.notify(metrics)\n"
   ]
  },
  {
   "cell_type": "code",
   "execution_count": 23,
   "id": "4ef8e62b",
   "metadata": {},
   "outputs": [],
   "source": [
    "from abc import ABC, abstractmethod\n",
    "\n",
    "class Observer(ABC):\n",
    "    @abstractmethod\n",
    "    def update(self, epoch, metrics):\n",
    "        pass\n"
   ]
  },
  {
   "cell_type": "code",
   "execution_count": 25,
   "id": "7610d23c",
   "metadata": {},
   "outputs": [],
   "source": [
    "class ConsoleLogger(Observer):\n",
    "    def update(self, epoch, metrics):\n",
    "        print(f\"[Console] {ML_Summer_School_ID} Epoch {epoch} - Loss: {metrics['loss']:.4f}, Acc: {metrics['accuracy']:.2f}\")\n",
    "\n",
    "class FileLogger(Observer):\n",
    "    def update(self, epoch, metrics):\n",
    "        with open(\"training_log.txt\", \"a\") as f:\n",
    "            f.write(f\"{ML_Summer_School_ID} - Epoch {epoch}: Loss={metrics['loss']:.4f}, Acc={metrics['accuracy']:.2f}\\n\")\n"
   ]
  },
  {
   "cell_type": "code",
   "execution_count": 26,
   "id": "9d2a8d04",
   "metadata": {},
   "outputs": [],
   "source": [
    "trainer = Trainer()"
   ]
  },
  {
   "cell_type": "code",
   "execution_count": 27,
   "id": "425ec6ba",
   "metadata": {},
   "outputs": [],
   "source": [
    "\n",
    "trainer.attach(ConsoleLogger())\n",
    "trainer.attach(FileLogger())"
   ]
  },
  {
   "cell_type": "code",
   "execution_count": 28,
   "id": "e66361b2",
   "metadata": {},
   "outputs": [
    {
     "name": "stdout",
     "output_type": "stream",
     "text": [
      "[Console] ML_Summer_School_THS Epoch 1 - Loss: 0.0400, Acc: 0.60\n",
      "[Console] ML_Summer_School_THS Epoch 2 - Loss: 0.0300, Acc: 0.70\n",
      "[Console] ML_Summer_School_THS Epoch 3 - Loss: 0.0200, Acc: 0.80\n",
      "[Console] ML_Summer_School_THS Epoch 4 - Loss: 0.0100, Acc: 0.90\n",
      "[Console] ML_Summer_School_THS Epoch 5 - Loss: 0.0000, Acc: 1.00\n"
     ]
    }
   ],
   "source": [
    "trainer.train(epochs=5)\n"
   ]
  },
  {
   "cell_type": "code",
   "execution_count": null,
   "id": "980e8058",
   "metadata": {},
   "outputs": [],
   "source": []
  },
  {
   "cell_type": "code",
   "execution_count": null,
   "id": "383f94ba",
   "metadata": {},
   "outputs": [],
   "source": []
  }
 ],
 "metadata": {
  "kernelspec": {
   "display_name": "ths_dev",
   "language": "python",
   "name": "python3"
  },
  "language_info": {
   "codemirror_mode": {
    "name": "ipython",
    "version": 3
   },
   "file_extension": ".py",
   "mimetype": "text/x-python",
   "name": "python",
   "nbconvert_exporter": "python",
   "pygments_lexer": "ipython3",
   "version": "3.10.16"
  }
 },
 "nbformat": 4,
 "nbformat_minor": 5
}
