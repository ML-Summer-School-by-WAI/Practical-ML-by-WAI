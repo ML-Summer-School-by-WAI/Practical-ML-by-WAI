{
 "cells": [
  {
   "cell_type": "code",
   "execution_count": 1,
   "id": "8536aaae",
   "metadata": {},
   "outputs": [],
   "source": [
    "import tensorflow as tf\n",
    "from tensorflow.keras import layers, models, datasets, optimizers\n",
    "from tensorflow.keras import mixed_precision\n",
    "import os\n",
    "import psutil\n",
    "import platform\n",
    "import subprocess"
   ]
  },
  {
   "cell_type": "code",
   "execution_count": 2,
   "id": "1340c7a3",
   "metadata": {},
   "outputs": [
    {
     "data": {
      "text/plain": [
       "'2.19.0'"
      ]
     },
     "execution_count": 2,
     "metadata": {},
     "output_type": "execute_result"
    }
   ],
   "source": [
    "import tensorflow as tf\n",
    "tf.__version__"
   ]
  },
  {
   "cell_type": "code",
   "execution_count": 3,
   "id": "d0b81ef7",
   "metadata": {},
   "outputs": [],
   "source": [
    "def get_system_specs():\n",
    "    \"\"\"Gathers and prints information about the system's hardware.\"\"\"\n",
    "    print(\"=\"*40)\n",
    "    print(\"SYSTEM & HARDWARE INFORMATION\")\n",
    "    print(\"=\"*40)\n",
    "\n",
    "    # OS Info\n",
    "    print(f\"OS: {platform.system()} {platform.release()}\")\n",
    "\n",
    "    # CPU Info\n",
    "    print(f\"CPU Cores: {psutil.cpu_count(logical=True)}\")\n",
    "\n",
    "    # RAM Info\n",
    "    ram_gb = psutil.virtual_memory().total / (1024**3)\n",
    "    print(f\"Total RAM: {ram_gb:.2f} GB\")\n",
    "\n",
    "\n",
    "    # GPU Info\n",
    "    gpus = tf.config.list_physical_devices('GPU')\n",
    "    if gpus:\n",
    "        print(f\"Detected {len(gpus)} GPU(s):\")\n",
    "        for i, gpu in enumerate(gpus):\n",
    "            # Using nvidia-smi to get more detailed info as tf.config is limited\n",
    "            try:\n",
    "                # The command is split for better readability\n",
    "                cmd = [\n",
    "                    'nvidia-smi',\n",
    "                    '--query-gpu=name,memory.total,driver_version',\n",
    "                    '--format=csv,noheader,nounits'\n",
    "                ]\n",
    "                result = subprocess.check_output(cmd, encoding='utf-8').strip().split('\\n')[i]\n",
    "                name, mem_total, driver = result.split(', ')\n",
    "\n",
    "                \n",
    "                print(f\"  - GPU {i}: {name}, VRAM: {float(mem_total)/1024:.2f} GB, Driver: {driver}\")\n",
    "            except (subprocess.CalledProcessError, FileNotFoundError):\n",
    "                print(f\"  - GPU {i}: (nvidia-smi not found or failed, using TensorFlow info)\")\n",
    "                details = tf.config.experimental.get_device_details(gpu)\n",
    "                print(f\"    Name: {details.get('device_name', 'N/A')}\")\n",
    "\n",
    "    else:\n",
    "        print(\"No GPU detected by TensorFlow. Training will be on CPU.\")\n",
    "    print(\"=\"*40, \"\\n\")"
   ]
  },
  {
   "cell_type": "code",
   "execution_count": 4,
   "id": "cf2928db",
   "metadata": {},
   "outputs": [
    {
     "name": "stdout",
     "output_type": "stream",
     "text": [
      "========================================\n",
      "SYSTEM & HARDWARE INFORMATION\n",
      "========================================\n",
      "OS: Darwin 24.6.0\n",
      "CPU Cores: 12\n",
      "Total RAM: 18.00 GB\n",
      "Detected 1 GPU(s):\n",
      "  - GPU 0: (nvidia-smi not found or failed, using TensorFlow info)\n",
      "    Name: METAL\n",
      "======================================== \n",
      "\n"
     ]
    }
   ],
   "source": [
    "get_system_specs()"
   ]
  },
  {
   "cell_type": "markdown",
   "id": "87b80d92",
   "metadata": {},
   "source": [
    "### MAC GPU test"
   ]
  },
  {
   "cell_type": "code",
   "execution_count": 5,
   "id": "c4f7f19c",
   "metadata": {},
   "outputs": [
    {
     "name": "stdout",
     "output_type": "stream",
     "text": [
      "Available GPUs: [PhysicalDevice(name='/physical_device:GPU:0', device_type='GPU')]\n",
      "TensorFlow is using the GPU.\n"
     ]
    }
   ],
   "source": [
    "import tensorflow as tf\n",
    "\n",
    "gpus = tf.config.experimental.list_physical_devices('GPU')\n",
    "print(\"Available GPUs:\", gpus)\n",
    "if gpus:\n",
    "    try:\n",
    "        for gpu in gpus:\n",
    "            tf.config.experimental.set_memory_growth(gpu, True)\n",
    "        print(\"TensorFlow is using the GPU.\")\n",
    "    except RuntimeError as e:\n",
    "        print(e)\n",
    "else:\n",
    "    print(\"TensorFlow is not using the GPU. Check your TensorFlow installation.\")"
   ]
  },
  {
   "cell_type": "code",
   "execution_count": null,
   "id": "f4cc982b",
   "metadata": {},
   "outputs": [],
   "source": []
  },
  {
   "cell_type": "code",
   "execution_count": null,
   "id": "4665698c",
   "metadata": {},
   "outputs": [],
   "source": []
  },
  {
   "cell_type": "code",
   "execution_count": null,
   "id": "c355bfdc",
   "metadata": {},
   "outputs": [],
   "source": []
  }
 ],
 "metadata": {
  "kernelspec": {
   "display_name": "6_deep_learning-3jfSPIh1",
   "language": "python",
   "name": "python3"
  },
  "language_info": {
   "codemirror_mode": {
    "name": "ipython",
    "version": 3
   },
   "file_extension": ".py",
   "mimetype": "text/x-python",
   "name": "python",
   "nbconvert_exporter": "python",
   "pygments_lexer": "ipython3",
   "version": "3.11.13"
  }
 },
 "nbformat": 4,
 "nbformat_minor": 5
}
