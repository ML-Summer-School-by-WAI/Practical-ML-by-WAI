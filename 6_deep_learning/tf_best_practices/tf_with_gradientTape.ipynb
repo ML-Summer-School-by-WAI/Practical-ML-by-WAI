{
 "cells": [
  {
   "cell_type": "code",
   "execution_count": 1,
   "metadata": {},
   "outputs": [],
   "source": [
    "import tensorflow as tf\n",
    "\n",
    "# Load and preprocess the MNIST dataset\n",
    "(x_train, y_train), (x_test, y_test) = tf.keras.datasets.mnist.load_data()\n",
    "x_train, x_test = x_train / 255.0, x_test / 255.0  # Normalize to [0, 1]\n",
    "x_train = x_train.reshape(-1, 28 * 28)  # Flatten images\n",
    "x_test = x_test.reshape(-1, 28 * 28)\n",
    "\n",
    "# Convert labels to one-hot encoding\n",
    "y_train_onehot = tf.keras.utils.to_categorical(y_train, num_classes=10)\n",
    "y_test_onehot = tf.keras.utils.to_categorical(y_test, num_classes=10)\n"
   ]
  },
  {
   "cell_type": "code",
   "execution_count": 4,
   "metadata": {},
   "outputs": [
    {
     "name": "stdout",
     "output_type": "stream",
     "text": [
      "(784,)\n"
     ]
    },
    {
     "data": {
      "text/plain": [
       "array([0., 0., 0., 0., 0., 0., 0., 1., 0., 0.])"
      ]
     },
     "execution_count": 4,
     "metadata": {},
     "output_type": "execute_result"
    }
   ],
   "source": [
    "index = 0 \n",
    "image = x_train[index]\n",
    "print(image.shape)  # Print the shape of the image\n",
    "y_test_onehot[0]"
   ]
  },
  {
   "cell_type": "code",
   "execution_count": null,
   "metadata": {},
   "outputs": [],
   "source": [
    "class SimpleNN(tf.keras.Model):\n",
    "    def __init__(self):\n",
    "        super(SimpleNN, self).__init__()\n",
    "        self.dense1 = tf.keras.layers.Dense(128, activation='relu')\n",
    "        self.dense2 = tf.keras.layers.Dense(10, activation='softmax')\n",
    "\n",
    "\n",
    "    def call(self, inputs):\n",
    "        x = self.dense1(inputs)\n",
    "        return self.dense2(x)"
   ]
  },
  {
   "cell_type": "code",
   "execution_count": 7,
   "metadata": {},
   "outputs": [
    {
     "name": "stderr",
     "output_type": "stream",
     "text": [
      "2025-08-10 19:48:36.329618: I metal_plugin/src/device/metal_device.cc:1154] Metal device set to: Apple M3 Pro\n",
      "2025-08-10 19:48:36.329984: I metal_plugin/src/device/metal_device.cc:296] systemMemory: 18.00 GB\n",
      "2025-08-10 19:48:36.329993: I metal_plugin/src/device/metal_device.cc:313] maxCacheSize: 6.00 GB\n",
      "WARNING: All log messages before absl::InitializeLog() is called are written to STDERR\n",
      "I0000 00:00:1754830116.330422 28945882 pluggable_device_factory.cc:305] Could not identify NUMA node of platform GPU ID 0, defaulting to 0. Your kernel may not have been built with NUMA support.\n",
      "I0000 00:00:1754830116.330510 28945882 pluggable_device_factory.cc:271] Created TensorFlow device (/job:localhost/replica:0/task:0/device:GPU:0 with 0 MB memory) -> physical PluggableDevice (device: 0, name: METAL, pci bus id: <undefined>)\n"
     ]
    }
   ],
   "source": [
    "model = SimpleNN()\n",
    "optimizer = tf.keras.optimizers.Adam(learning_rate=0.001)\n",
    "loss_fn = tf.keras.losses.CategoricalCrossentropy()"
   ]
  },
  {
   "cell_type": "code",
   "execution_count": 9,
   "metadata": {},
   "outputs": [
    {
     "name": "stdout",
     "output_type": "stream",
     "text": [
      "num_batches :  1875\n"
     ]
    }
   ],
   "source": [
    "epochs = 3\n",
    "batch_size = 32\n",
    "num_batches = len(x_train) // batch_size\n",
    "\n",
    "print(\"num_batches : \",num_batches)"
   ]
  },
  {
   "cell_type": "code",
   "execution_count": 11,
   "metadata": {},
   "outputs": [
    {
     "data": {
      "text/plain": [
       "31"
      ]
     },
     "execution_count": 11,
     "metadata": {},
     "output_type": "execute_result"
    }
   ],
   "source": [
    "1000// 32\n"
   ]
  },
  {
   "cell_type": "code",
   "execution_count": null,
   "metadata": {},
   "outputs": [],
   "source": [
    "0 to 32\n",
    "32 to 64"
   ]
  },
  {
   "cell_type": "code",
   "execution_count": 10,
   "metadata": {},
   "outputs": [
    {
     "data": {
      "text/plain": [
       "[]"
      ]
     },
     "execution_count": 10,
     "metadata": {},
     "output_type": "execute_result"
    }
   ],
   "source": [
    "model.trainable_variables"
   ]
  },
  {
   "cell_type": "code",
   "execution_count": 12,
   "metadata": {},
   "outputs": [
    {
     "name": "stdout",
     "output_type": "stream",
     "text": [
      "Epoch 1/3\n",
      "Batch 0/1875, Loss: 2.3379\n",
      "Batch 200/1875, Loss: 0.4071\n",
      "Batch 400/1875, Loss: 0.1741\n",
      "Batch 600/1875, Loss: 0.1903\n",
      "Batch 800/1875, Loss: 0.1447\n",
      "Batch 1000/1875, Loss: 0.4514\n",
      "Batch 1200/1875, Loss: 0.2078\n",
      "Batch 1400/1875, Loss: 0.2746\n",
      "Batch 1600/1875, Loss: 0.2024\n",
      "Batch 1800/1875, Loss: 0.1672\n",
      "Epoch 2/3\n",
      "Batch 0/1875, Loss: 0.0713\n",
      "Batch 200/1875, Loss: 0.1812\n",
      "Batch 400/1875, Loss: 0.1053\n",
      "Batch 600/1875, Loss: 0.0497\n",
      "Batch 800/1875, Loss: 0.0869\n",
      "Batch 1000/1875, Loss: 0.2246\n",
      "Batch 1200/1875, Loss: 0.1548\n",
      "Batch 1400/1875, Loss: 0.1880\n",
      "Batch 1600/1875, Loss: 0.1510\n",
      "Batch 1800/1875, Loss: 0.0926\n",
      "Epoch 3/3\n",
      "Batch 0/1875, Loss: 0.0374\n",
      "Batch 200/1875, Loss: 0.1032\n",
      "Batch 400/1875, Loss: 0.0914\n",
      "Batch 600/1875, Loss: 0.0314\n",
      "Batch 800/1875, Loss: 0.0613\n",
      "Batch 1000/1875, Loss: 0.0979\n",
      "Batch 1200/1875, Loss: 0.1367\n",
      "Batch 1400/1875, Loss: 0.1440\n",
      "Batch 1600/1875, Loss: 0.0781\n",
      "Batch 1800/1875, Loss: 0.0548\n"
     ]
    }
   ],
   "source": [
    "\n",
    "for epoch in range(epochs):\n",
    "    print(f\"Epoch {epoch + 1}/{epochs}\")\n",
    "\n",
    "    #new models creations\n",
    "    # set weights from best model\n",
    "    \n",
    "    for i in range(num_batches):\n",
    "        # Get a batch of data\n",
    "        start = i * batch_size\n",
    "\n",
    "        \n",
    "        end = start + batch_size\n",
    "        x_batch = x_train[start:end]\n",
    "        y_batch = y_train_onehot[start:end]\n",
    "        \n",
    "        with tf.GradientTape() as tape:\n",
    "            predictions = model(x_batch, training=True)  # Forward pass\n",
    "            loss = loss_fn(y_batch, predictions)        # Compute loss\n",
    "        \n",
    "\n",
    "        gradients = tape.gradient(loss, model.trainable_variables) \n",
    "      \n",
    "        optimizer.apply_gradients(zip(gradients, model.trainable_variables))  # Update weights\n",
    "\n",
    "        if i % 200 == 0:  # Print progress every 200 batches\n",
    "            print(f\"Batch {i}/{num_batches}, Loss: {loss.numpy():.4f}\")\n",
    "\n",
    "        "
   ]
  },
  {
   "cell_type": "code",
   "execution_count": 7,
   "metadata": {},
   "outputs": [
    {
     "name": "stdout",
     "output_type": "stream",
     "text": [
      "Test Loss: 0.1047, Test Accuracy: 0.9673\n"
     ]
    }
   ],
   "source": [
    "# Evaluate the model\n",
    "test_loss = loss_fn(y_test_onehot, model(x_test))\n",
    "test_accuracy = tf.keras.metrics.categorical_accuracy(y_test_onehot, model(x_test))\n",
    "print(f\"Test Loss: {test_loss.numpy():.4f}, Test Accuracy: {tf.reduce_mean(test_accuracy).numpy():.4f}\")"
   ]
  },
  {
   "cell_type": "code",
   "execution_count": null,
   "metadata": {},
   "outputs": [],
   "source": []
  },
  {
   "cell_type": "code",
   "execution_count": null,
   "metadata": {},
   "outputs": [],
   "source": []
  }
 ],
 "metadata": {
  "kernelspec": {
   "display_name": "6_deep_learning-3jfSPIh1",
   "language": "python",
   "name": "python3"
  },
  "language_info": {
   "codemirror_mode": {
    "name": "ipython",
    "version": 3
   },
   "file_extension": ".py",
   "mimetype": "text/x-python",
   "name": "python",
   "nbconvert_exporter": "python",
   "pygments_lexer": "ipython3",
   "version": "3.11.13"
  }
 },
 "nbformat": 4,
 "nbformat_minor": 2
}
