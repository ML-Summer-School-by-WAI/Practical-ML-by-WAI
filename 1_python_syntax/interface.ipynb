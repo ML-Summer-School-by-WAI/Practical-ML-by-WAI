{
 "cells": [
  {
   "cell_type": "code",
   "execution_count": 2,
   "id": "0bd79c2f",
   "metadata": {},
   "outputs": [
    {
     "name": "stdout",
     "output_type": "stream",
     "text": [
      "Your Sudent ID is: ML_Summer_School_THS\n"
     ]
    }
   ],
   "source": [
    "import os\n",
    "from dotenv import load_dotenv\n",
    "load_dotenv()\n",
    "\n",
    "ML_Summer_School_ID = os.getenv('ML_Summer_School_ID')\n",
    "print(\"Your Sudent ID is: \" + ML_Summer_School_ID)"
   ]
  },
  {
   "cell_type": "markdown",
   "id": "ea84ca40",
   "metadata": {},
   "source": [
    "### \"Program to an interface, not an implementation\" "
   ]
  },
  {
   "cell_type": "markdown",
   "id": "26912acc",
   "metadata": {},
   "source": [
    "#### without interface"
   ]
  },
  {
   "cell_type": "code",
   "execution_count": 3,
   "id": "9563bc13",
   "metadata": {},
   "outputs": [],
   "source": [
    "\n",
    "class FileLogger:\n",
    "    def log(self, message):\n",
    "        print(f\"[File] {message}\")\n",
    "\n",
    "def save_data(logger):\n",
    "    logger.log(\"Saving data...\")"
   ]
  },
  {
   "cell_type": "code",
   "execution_count": 4,
   "id": "2b62df0f",
   "metadata": {},
   "outputs": [
    {
     "name": "stdout",
     "output_type": "stream",
     "text": [
      "[File] Saving data...\n"
     ]
    }
   ],
   "source": [
    "logger = FileLogger()\n",
    "save_data(logger)"
   ]
  },
  {
   "cell_type": "markdown",
   "id": "f8763f35",
   "metadata": {},
   "source": [
    "####  Programming to an interface"
   ]
  },
  {
   "cell_type": "code",
   "execution_count": 5,
   "id": "c215695a",
   "metadata": {},
   "outputs": [],
   "source": [
    "\n",
    "\n",
    "\n",
    "class FileLogger:\n",
    "    def log(self, message):\n",
    "        print(f\"[File] {message}\")\n",
    "\n",
    "class ConsoleLogger:\n",
    "    def log(self, message):\n",
    "        print(f\"[Console] {message}\")\n",
    "\n",
    "def save_data(logger):\n",
    "    # Assumes logger has a 'log' method – that's the \"interface\"\n",
    "    logger.log(\"Saving data...\")\n"
   ]
  },
  {
   "cell_type": "code",
   "execution_count": 6,
   "id": "7e3c7d75",
   "metadata": {},
   "outputs": [
    {
     "name": "stdout",
     "output_type": "stream",
     "text": [
      "[Console] Saving data...\n",
      "[File] Saving data...\n"
     ]
    }
   ],
   "source": [
    "logger = ConsoleLogger()\n",
    "save_data(logger)\n",
    "\n",
    "logger = FileLogger()\n",
    "save_data(logger)"
   ]
  },
  {
   "cell_type": "markdown",
   "id": "4023baf8",
   "metadata": {},
   "source": [
    "#### Abstract Base Classes (ABCs)"
   ]
  },
  {
   "cell_type": "code",
   "execution_count": null,
   "id": "0f0eebec",
   "metadata": {},
   "outputs": [],
   "source": [
    "from abc import ABC, abstractmethod\n",
    "\n",
    "class Logger(ABC):\n",
    "    @abstractmethod\n",
    "    def log(self, message):\n",
    "        pass\n",
    "\n",
    "class FileLogger(Logger):\n",
    "    def log(self, message):\n",
    "        print(f\"[File] {message}\")\n",
    "\n",
    "class ConsoleLogger(Logger):\n",
    "    def log(self, message):\n",
    "        print(f\"[Console] {message}\")\n",
    "\n",
    "\n",
    "def save_data(logger: Logger):\n",
    "    logger.log(\"Saving data...\")"
   ]
  },
  {
   "cell_type": "code",
   "execution_count": 8,
   "id": "0334829d",
   "metadata": {},
   "outputs": [
    {
     "name": "stdout",
     "output_type": "stream",
     "text": [
      "[Console] Saving data...\n",
      "[File] Saving data...\n"
     ]
    }
   ],
   "source": [
    "logger = ConsoleLogger()\n",
    "save_data(logger)\n",
    "\n",
    "logger = FileLogger()\n",
    "save_data(logger)"
   ]
  },
  {
   "cell_type": "code",
   "execution_count": null,
   "id": "12ecafde",
   "metadata": {},
   "outputs": [],
   "source": []
  },
  {
   "cell_type": "code",
   "execution_count": null,
   "id": "f59a6d87",
   "metadata": {},
   "outputs": [],
   "source": []
  },
  {
   "cell_type": "code",
   "execution_count": null,
   "id": "ae1154c8",
   "metadata": {},
   "outputs": [],
   "source": []
  },
  {
   "cell_type": "code",
   "execution_count": null,
   "id": "733eeab7",
   "metadata": {},
   "outputs": [],
   "source": []
  }
 ],
 "metadata": {
  "kernelspec": {
   "display_name": "ths_dev",
   "language": "python",
   "name": "python3"
  },
  "language_info": {
   "codemirror_mode": {
    "name": "ipython",
    "version": 3
   },
   "file_extension": ".py",
   "mimetype": "text/x-python",
   "name": "python",
   "nbconvert_exporter": "python",
   "pygments_lexer": "ipython3",
   "version": "3.10.16"
  }
 },
 "nbformat": 4,
 "nbformat_minor": 5
}
