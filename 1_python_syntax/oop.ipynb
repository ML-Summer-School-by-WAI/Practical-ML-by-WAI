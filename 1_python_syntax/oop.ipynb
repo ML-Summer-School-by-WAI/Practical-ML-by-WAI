{
 "cells": [
  {
   "cell_type": "code",
   "execution_count": 39,
   "id": "01455545",
   "metadata": {},
   "outputs": [
    {
     "name": "stdout",
     "output_type": "stream",
     "text": [
      "Your Sudent ID is: ML_Summer_School_THS\n"
     ]
    }
   ],
   "source": [
    "import os\n",
    "from dotenv import load_dotenv\n",
    "load_dotenv()\n",
    "\n",
    "ML_Summer_School_ID = os.getenv('ML_Summer_School_ID')\n",
    "print(\"Your Sudent ID is: \" + ML_Summer_School_ID)"
   ]
  },
  {
   "cell_type": "markdown",
   "id": "93269bc6",
   "metadata": {},
   "source": [
    "### Before OOP"
   ]
  },
  {
   "cell_type": "code",
   "execution_count": 21,
   "id": "1365aa3e",
   "metadata": {},
   "outputs": [
    {
     "name": "stdout",
     "output_type": "stream",
     "text": [
      "A monster named Grog appears with 50 health.\n",
      "Grog took 10 damage!\n",
      "It has 40 health left.\n"
     ]
    }
   ],
   "source": [
    "monster1 = {\n",
    "  \"name\": \"Grog\",\n",
    "  \"health\": 50,\n",
    "}\n",
    "\n",
    "def take_damage(monster, amount):\n",
    "  monster[\"health\"] -= amount\n",
    "  print(f\"{monster['name']} took {amount} damage!\")\n",
    "  print(f\"It has {monster['health']} health left.\")\n",
    "\n",
    "print(f\"A monster named {monster1['name']} appears with {monster1['health']} health.\")\n",
    "take_damage(monster1, 10)"
   ]
  },
  {
   "cell_type": "markdown",
   "id": "b8a05d57",
   "metadata": {},
   "source": [
    "### Using class and object"
   ]
  },
  {
   "cell_type": "code",
   "execution_count": 66,
   "id": "1eec62ef",
   "metadata": {},
   "outputs": [],
   "source": [
    "class Monster:\n",
    "    def __init__(self, name,health):\n",
    "        self.name = name\n",
    "        self.health = health\n",
    "\n",
    "    def take_damage(self, amount : int = 10):\n",
    "        \"\"\"\n",
    "        args :\n",
    "            amount : int monster to take damage\n",
    "        \"\"\"\n",
    "\n",
    "        self.health -= amount\n",
    "        print(f\"{self.name} took {amount} damage!\")\n",
    "        print(f\"It now has {self.health} health left.\")\n",
    "\n",
    "\n",
    "\n"
   ]
  },
  {
   "cell_type": "code",
   "execution_count": 62,
   "id": "e383eca3",
   "metadata": {},
   "outputs": [
    {
     "data": {
      "text/plain": [
       "100"
      ]
     },
     "execution_count": 62,
     "metadata": {},
     "output_type": "execute_result"
    }
   ],
   "source": [
    "grog = Monster(\"Grog\")\n",
    "grog.health"
   ]
  },
  {
   "cell_type": "code",
   "execution_count": 24,
   "id": "61621a7a",
   "metadata": {},
   "outputs": [
    {
     "name": "stdout",
     "output_type": "stream",
     "text": [
      "Grog took 10 damage!\n",
      "It now has 40 health left.\n",
      "Blinky took 5 damage!\n",
      "It now has 25 health left.\n",
      "----------\n",
      "\n",
      "Grog's final health is 40\n",
      "Blinky's final health is 25\n"
     ]
    }
   ],
   "source": [
    "\n",
    "grog = Monster(\"Grog\", 50)\n",
    "blinky = Monster(\"Blinky\", 30)\n",
    "\n",
    "grog.take_damage(10)\n",
    "blinky.take_damage(5)\n",
    "print(\"----------\")\n",
    "print(f\"\\n{grog.name}'s final health is {grog.health}\")\n",
    "print(f\"{blinky.name}'s final health is {blinky.health}\")\n",
    "\n"
   ]
  },
  {
   "cell_type": "markdown",
   "id": "4188a9f8",
   "metadata": {},
   "source": [
    "### Inheritance and Polymorphism"
   ]
  },
  {
   "cell_type": "code",
   "execution_count": null,
   "id": "28cff299",
   "metadata": {},
   "outputs": [],
   "source": [
    "class Dragon(Monster):\n",
    "    def __init__(self, name, health):\n",
    "\n",
    "        super().__init__(name, health)\n",
    "\n",
    "    def breathe_fire(self):\n",
    "        print(f\"{self.name} breathes a huge fireball! FWOOSH!\")\n",
    "\n",
    "        return 20\n",
    "    \n",
    "\n",
    "    def take_damage(self, amount):\n",
    "\n",
    "        print(\"This is override method\")\n",
    "        self.health -= (amount+10)\n",
    "\n",
    "        "
   ]
  },
  {
   "cell_type": "code",
   "execution_count": 65,
   "id": "dcc026bf",
   "metadata": {},
   "outputs": [
    {
     "name": "stdout",
     "output_type": "stream",
     "text": [
      "100\n",
      "This is override method\n"
     ]
    }
   ],
   "source": [
    "smaug = Dragon(\"Smaug\", 200)\n",
    "print(smaug.health)\n",
    "smaug.take_damage(25)"
   ]
  },
  {
   "cell_type": "code",
   "execution_count": 28,
   "id": "967fef3a",
   "metadata": {},
   "outputs": [
    {
     "name": "stdout",
     "output_type": "stream",
     "text": [
      "This is override method\n",
      "Smaug breathes a huge fireball! FWOOSH!\n",
      "Grog took 20 damage!\n",
      "It now has 20 health left.\n",
      "Blinky took 20 damage!\n",
      "It now has 5 health left.\n",
      "----------\n",
      "The fire does 20 damage to everyone!\n",
      "Grog's final health is 20\n",
      "Blinky's final health is 5\n"
     ]
    }
   ],
   "source": [
    "smaug = Dragon(\"Smaug\", 200)\n",
    "smaug.take_damage(25)\n",
    "\n",
    "fire_damage = smaug.breathe_fire()\n",
    "\n",
    "\n",
    "grog.take_damage(fire_damage)\n",
    "blinky.take_damage(fire_damage)\n",
    "print(\"----------\")\n",
    "\n",
    "print(f\"The fire does {fire_damage} damage to everyone!\")\n",
    "print(f\"{grog.name}'s final health is {grog.health}\")\n",
    "print(f\"{blinky.name}'s final health is {blinky.health}\")\n"
   ]
  },
  {
   "cell_type": "code",
   "execution_count": 68,
   "id": "ff2f050b",
   "metadata": {},
   "outputs": [
    {
     "name": "stdout",
     "output_type": "stream",
     "text": [
      "100000\n"
     ]
    }
   ],
   "source": [
    "smaug.health = 100000\n",
    "\n",
    "\n",
    "print(smaug.health)"
   ]
  },
  {
   "cell_type": "markdown",
   "id": "14cee9cb",
   "metadata": {},
   "source": [
    "### Polymorphism in Python"
   ]
  },
  {
   "cell_type": "code",
   "execution_count": 43,
   "id": "680030c5",
   "metadata": {},
   "outputs": [],
   "source": [
    "def test_def():\n",
    "    pass"
   ]
  },
  {
   "cell_type": "code",
   "execution_count": null,
   "id": "4bd83a40",
   "metadata": {},
   "outputs": [],
   "source": [
    "class Animal:\n",
    "    def speak(self):\n",
    "        raise NotImplementedError(\"Subclass must implement abstract method 'speak'\")\n",
    "    \n",
    "class Dog(Animal):\n",
    "    def speak(self):\n",
    "        return \"Woof!\"\n",
    "\n",
    "class Cat(Animal):\n",
    "    def speak(self):\n",
    "        return \"Meow!\"\n",
    "\n",
    "class Duck(Animal):\n",
    "    def speak(self):\n",
    "        return \"Quack!\"\n",
    "\n",
    "class Cow(Animal):\n",
    "    def speak(self):\n",
    "        return \"Moo!\"\n",
    "    \n",
    "class Pig(Animal):\n",
    "    def speak(self):\n",
    "        return \"Oink!\""
   ]
  },
  {
   "cell_type": "code",
   "execution_count": 58,
   "id": "19fdded9",
   "metadata": {},
   "outputs": [],
   "source": [
    "class Dino(Animal):\n",
    "    def speak_1(self):\n",
    "        return \"WOOOOOO!\""
   ]
  },
  {
   "cell_type": "code",
   "execution_count": null,
   "id": "27c60caf",
   "metadata": {},
   "outputs": [
    {
     "data": {
      "text/plain": [
       "<__main__.Dino at 0x10665afb0>"
      ]
     },
     "execution_count": 59,
     "metadata": {},
     "output_type": "execute_result"
    }
   ],
   "source": []
  },
  {
   "cell_type": "code",
   "execution_count": 46,
   "id": "8d589daf",
   "metadata": {},
   "outputs": [],
   "source": [
    "def make_animal_speak(animal):\n",
    "    \"\"\"\n",
    "    This function accepts any object that has a 'speak' method.\n",
    "    It doesn't care about the specific type of animal, only its behavior.\n",
    "    \"\"\"\n",
    "    print(f\"{type(animal).__name__} says: {animal.speak()}\")"
   ]
  },
  {
   "cell_type": "code",
   "execution_count": null,
   "id": "fca0c9dd",
   "metadata": {},
   "outputs": [
    {
     "name": "stdout",
     "output_type": "stream",
     "text": [
      "Dog says: Woof!\n",
      "Cat says: Meow!\n",
      "Duck says: Quack!\n",
      "Cow says: Moo!\n",
      "Dino says: WOOOOOO!\n"
     ]
    }
   ],
   "source": [
    "animals_1 = [Dog(), Cat(), Duck(), Cow(), Pig()]\n",
    "\n",
    "animals_1 = [Dog(), Cat(), Duck(), Cow(),Dino()]\n",
    "for obj in animals_1:\n",
    "    make_animal_speak(obj)"
   ]
  },
  {
   "cell_type": "code",
   "execution_count": null,
   "id": "3a78d9b1",
   "metadata": {},
   "outputs": [],
   "source": []
  },
  {
   "cell_type": "markdown",
   "id": "1d15af6a",
   "metadata": {},
   "source": [
    "### Encapsulation"
   ]
  },
  {
   "cell_type": "code",
   "execution_count": 69,
   "id": "9ea5e407",
   "metadata": {},
   "outputs": [],
   "source": [
    "class BankAccount:\n",
    "    def __init__(self, account_number, initial_balance=0):\n",
    "        # Private attributes (indicated by __ for strong convention/name mangling)\n",
    "        self._account_owner_name = ML_Summer_School_ID\n",
    "        self.__account_number = account_number\n",
    "        self.__balance = initial_balance\n",
    "        self.__transaction_history = []\n",
    "\n",
    "        print(f\"Account {self.__account_number} created with initial balance: ${self.__balance:.2f}\")\n",
    "\n",
    "\n",
    "     # Public methods (interface to interact with the account)\n",
    "    def deposit(self, amount):\n",
    "        if amount > 0:\n",
    "            self.__balance += amount\n",
    "            self.__transaction_history.append(f\"Deposit: +${amount:.2f}\")\n",
    "            print(f\"Deposited ${amount:.2f}. New balance: ${self.__balance:.2f}\")\n",
    "        else:\n",
    "            print(\"Deposit amount must be positive.\")\n",
    "\n",
    "\n",
    "    def withdraw(self, amount):\n",
    "        if amount > 0:\n",
    "            if self.__balance >= amount:\n",
    "                self.__balance -= amount\n",
    "                self.__transaction_history.append(f\"Withdrawal: -${amount:.2f}\")\n",
    "                print(f\"Withdrew ${amount:.2f}. New balance: ${self.__balance:.2f}\")\n",
    "            else:\n",
    "                print(f\"Insufficient funds. Current balance: ${self.__balance:.2f}\")\n",
    "        else:\n",
    "            print(\"Withdrawal amount must be positive.\")\n",
    "\n",
    "\n",
    "\n",
    "    # Getter methods to safely access private data\n",
    "    def get_balance(self):\n",
    "        return self.__balance\n",
    "\n",
    "    def get_account_number(self):\n",
    "        return self.__account_number\n",
    "\n",
    "    def get_transaction_history(self):\n",
    "        # Return a copy to prevent external modification of the internal list\n",
    "        return list(self.__transaction_history)\n",
    "\n",
    "    def display_account_info(self):\n",
    "        print(f\"\\n--- Account Information for {self.__account_number} ---\")\n",
    "        print(f\"Current Balance: ${self.get_balance():.2f}\")\n",
    "        \n",
    "        print(\"Transaction History:\")\n",
    "        for transaction in self.get_transaction_history():\n",
    "            print(f\"  - {transaction}\")\n",
    "        print(\"---------------------------------------\")\n",
    "\n"
   ]
  },
  {
   "cell_type": "code",
   "execution_count": null,
   "id": "ef447843",
   "metadata": {},
   "outputs": [],
   "source": []
  },
  {
   "cell_type": "code",
   "execution_count": null,
   "id": "bd45452e",
   "metadata": {},
   "outputs": [
    {
     "name": "stdout",
     "output_type": "stream",
     "text": [
      "Account 123456789 created with initial balance: $1000.00\n",
      "Deposited $500.00. New balance: $1500.00\n",
      "Withdrew $200.00. New balance: $1300.00\n",
      "Insufficient funds. Current balance: $1300.00\n"
     ]
    }
   ],
   "source": [
    "my_account = BankAccount(\"123456789\", 1000)\n",
    "\n",
    "my_account.deposit(500)\n",
    "my_account.withdraw(200)\n",
    "my_account.withdraw(1500)"
   ]
  },
  {
   "cell_type": "code",
   "execution_count": 78,
   "id": "b995ec2e",
   "metadata": {},
   "outputs": [
    {
     "data": {
      "text/plain": [
       "['_BankAccount__account_number',\n",
       " '_BankAccount__balance',\n",
       " '_BankAccount__transaction_history',\n",
       " '__class__',\n",
       " '__delattr__',\n",
       " '__dict__',\n",
       " '__dir__',\n",
       " '__doc__',\n",
       " '__eq__',\n",
       " '__format__',\n",
       " '__ge__',\n",
       " '__getattribute__',\n",
       " '__gt__',\n",
       " '__hash__',\n",
       " '__init__',\n",
       " '__init_subclass__',\n",
       " '__le__',\n",
       " '__lt__',\n",
       " '__module__',\n",
       " '__ne__',\n",
       " '__new__',\n",
       " '__reduce__',\n",
       " '__reduce_ex__',\n",
       " '__repr__',\n",
       " '__setattr__',\n",
       " '__sizeof__',\n",
       " '__str__',\n",
       " '__subclasshook__',\n",
       " '__weakref__',\n",
       " '_account_owner_name',\n",
       " 'deposit',\n",
       " 'display_account_info',\n",
       " 'get_account_number',\n",
       " 'get_balance',\n",
       " 'get_transaction_history',\n",
       " 'withdraw']"
      ]
     },
     "execution_count": 78,
     "metadata": {},
     "output_type": "execute_result"
    }
   ],
   "source": [
    "dir(my_account)"
   ]
  },
  {
   "cell_type": "code",
   "execution_count": 71,
   "id": "43625872",
   "metadata": {},
   "outputs": [
    {
     "name": "stdout",
     "output_type": "stream",
     "text": [
      "Deposit amount must be positive.\n"
     ]
    }
   ],
   "source": [
    "my_account.deposit(-100)"
   ]
  },
  {
   "cell_type": "code",
   "execution_count": 79,
   "id": "74c912de",
   "metadata": {},
   "outputs": [
    {
     "name": "stdout",
     "output_type": "stream",
     "text": [
      "\n",
      "ML_Summer_School_THS balance: $1300.00\n",
      "ML_Summer_School_THS number: 123456789\n"
     ]
    }
   ],
   "source": [
    "print(f\"\\n{ML_Summer_School_ID} balance: ${my_account.get_balance():.2f}\")\n",
    "print(f\"{ML_Summer_School_ID} number: {my_account.get_account_number()}\")"
   ]
  },
  {
   "cell_type": "code",
   "execution_count": 80,
   "id": "61db598d",
   "metadata": {},
   "outputs": [
    {
     "name": "stdout",
     "output_type": "stream",
     "text": [
      "Account Owner Name: ML_Summer_School_THS\n",
      "Error trying to directly access __balance: 'BankAccount' object has no attribute '__balance'\n"
     ]
    }
   ],
   "source": [
    "try:\n",
    "    print(f\"Account Owner Name: {my_account._account_owner_name}\")\n",
    "    print(f\"Attempting to directly access __balance: {my_account.__balance}\")\n",
    "except AttributeError as e:\n",
    "    print(f\"Error trying to directly access __balance: {e}\")\n"
   ]
  },
  {
   "cell_type": "code",
   "execution_count": null,
   "id": "915dad1c",
   "metadata": {},
   "outputs": [
    {
     "ename": "AttributeError",
     "evalue": "'BankAccount' object has no attribute '__balance'",
     "output_type": "error",
     "traceback": [
      "\u001b[0;31m---------------------------------------------------------------------------\u001b[0m",
      "\u001b[0;31mAttributeError\u001b[0m                            Traceback (most recent call last)",
      "Cell \u001b[0;32mIn[38], line 1\u001b[0m\n\u001b[0;32m----> 1\u001b[0m \u001b[38;5;28mprint\u001b[39m(\u001b[38;5;124mf\u001b[39m\u001b[38;5;124m\"\u001b[39m\u001b[38;5;124mAccessing mangled name (not recommended): \u001b[39m\u001b[38;5;132;01m{\u001b[39;00m\u001b[43mmy_account\u001b[49m\u001b[38;5;241;43m.\u001b[39;49m\u001b[43m__balance\u001b[49m\u001b[38;5;132;01m}\u001b[39;00m\u001b[38;5;124m\"\u001b[39m)\n\u001b[1;32m      3\u001b[0m \u001b[38;5;28mprint\u001b[39m(\u001b[38;5;124mf\u001b[39m\u001b[38;5;124m\"\u001b[39m\u001b[38;5;124mAccessing mangled name (not recommended): \u001b[39m\u001b[38;5;132;01m{\u001b[39;00mmy_account\u001b[38;5;241m.\u001b[39m_BankAccount__balance\u001b[38;5;132;01m}\u001b[39;00m\u001b[38;5;124m\"\u001b[39m)\n",
      "\u001b[0;31mAttributeError\u001b[0m: 'BankAccount' object has no attribute '__balance'"
     ]
    }
   ],
   "source": [
    "print(f\"Accessing mangled name (not recommended): {my_account.__balance}\")\n"
   ]
  },
  {
   "cell_type": "code",
   "execution_count": 81,
   "id": "31f80aee",
   "metadata": {},
   "outputs": [
    {
     "name": "stdout",
     "output_type": "stream",
     "text": [
      "Accessing mangled name (not recommended): 1300\n"
     ]
    }
   ],
   "source": [
    "print(f\"Accessing mangled name (not recommended): {my_account._BankAccount__balance}\")\n"
   ]
  },
  {
   "cell_type": "code",
   "execution_count": null,
   "id": "e6916982",
   "metadata": {},
   "outputs": [],
   "source": []
  }
 ],
 "metadata": {
  "kernelspec": {
   "display_name": "ths_dev",
   "language": "python",
   "name": "python3"
  },
  "language_info": {
   "codemirror_mode": {
    "name": "ipython",
    "version": 3
   },
   "file_extension": ".py",
   "mimetype": "text/x-python",
   "name": "python",
   "nbconvert_exporter": "python",
   "pygments_lexer": "ipython3",
   "version": "3.10.16"
  }
 },
 "nbformat": 4,
 "nbformat_minor": 5
}
