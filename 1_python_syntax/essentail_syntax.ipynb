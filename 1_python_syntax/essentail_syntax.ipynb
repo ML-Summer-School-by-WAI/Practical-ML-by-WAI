{
 "cells": [
  {
   "cell_type": "code",
   "execution_count": 1,
   "id": "85b3daca",
   "metadata": {},
   "outputs": [
    {
     "name": "stdout",
     "output_type": "stream",
     "text": [
      "Your Sudent ID is: ML_Summer_School_THS\n"
     ]
    }
   ],
   "source": [
    "import os\n",
    "from dotenv import load_dotenv\n",
    "load_dotenv()\n",
    "\n",
    "ML_Summer_School_ID = os.getenv('ML_Summer_School_ID')\n",
    "print(\"Your Sudent ID is: \" + ML_Summer_School_ID)"
   ]
  },
  {
   "cell_type": "markdown",
   "id": "af7a8bb4",
   "metadata": {},
   "source": [
    "### List and Copy"
   ]
  },
  {
   "cell_type": "code",
   "execution_count": 2,
   "id": "db910a41",
   "metadata": {},
   "outputs": [
    {
     "name": "stdout",
     "output_type": "stream",
     "text": [
      "original_list: [1, 2, [3, 4]]\n",
      "copy_list: [1, 2, [3, 4]]\n"
     ]
    }
   ],
   "source": [
    "original_list = [1, 2, [3, 4]]\n",
    "\n",
    "copy_list = original_list\n",
    "\n",
    "print(f\"original_list: {original_list}\")\n",
    "print(f\"copy_list: {copy_list}\")\n"
   ]
  },
  {
   "cell_type": "code",
   "execution_count": null,
   "id": "d9a026d1",
   "metadata": {},
   "outputs": [],
   "source": []
  },
  {
   "cell_type": "code",
   "execution_count": 3,
   "id": "14e472f8",
   "metadata": {},
   "outputs": [
    {
     "name": "stdout",
     "output_type": "stream",
     "text": [
      "original_list: [1, 2, [99, 4]]\n",
      "copy_list: [1, 2, [99, 4]]\n"
     ]
    }
   ],
   "source": [
    "copy_list[2][0] = 99\n",
    "print(f\"original_list: {original_list}\")\n",
    "print(f\"copy_list: {copy_list}\")"
   ]
  },
  {
   "cell_type": "markdown",
   "id": "c2a1315a",
   "metadata": {},
   "source": [
    "### "
   ]
  },
  {
   "cell_type": "markdown",
   "id": "553599e3",
   "metadata": {},
   "source": [
    "### Copy vs DeepCopy"
   ]
  },
  {
   "cell_type": "code",
   "execution_count": 4,
   "id": "96b5e583",
   "metadata": {},
   "outputs": [
    {
     "name": "stdout",
     "output_type": "stream",
     "text": [
      "original_list: [1, 2, [3, 4]]\n",
      "copy_list: [1, 2, [3, 4]]\n",
      "original_list: [1, 2, [3, 4]]\n",
      "copy_list: [1, 2, [99, 4]]\n"
     ]
    }
   ],
   "source": [
    "import copy\n",
    "\n",
    "original_list = [1, 2, [3, 4]]\n",
    "copy_list = copy.deepcopy(original_list)\n",
    "\n",
    "print(f\"original_list: {original_list}\")\n",
    "print(f\"copy_list: {copy_list}\")\n",
    "\n",
    "copy_list[2][0] = 99\n",
    "print(f\"original_list: {original_list}\")\n",
    "print(f\"copy_list: {copy_list}\")\n",
    "\n"
   ]
  },
  {
   "cell_type": "markdown",
   "id": "e9c8444d",
   "metadata": {},
   "source": [
    "### Object Copy"
   ]
  },
  {
   "cell_type": "code",
   "execution_count": 8,
   "id": "fe210519",
   "metadata": {},
   "outputs": [],
   "source": [
    "class MyObject:\n",
    "    def __init__(self, name, data):\n",
    "        self.name = name\n",
    "        self.data = data\n",
    "\n",
    "    def __repr__(self):\n",
    "        return f\"{ML_Summer_School_ID} (name='{self.name}', data={self.data})\""
   ]
  },
  {
   "cell_type": "code",
   "execution_count": 9,
   "id": "642d0973",
   "metadata": {},
   "outputs": [
    {
     "name": "stdout",
     "output_type": "stream",
     "text": [
      " obj1: ML_Summer_School_THS (name='Child', data=[ML_Summer_School_THS (name='Parent', data=[10, 20])])\n",
      " obj2: ML_Summer_School_THS (name='Child', data=[ML_Summer_School_THS (name='Parent', data=[10, 20])])\n"
     ]
    }
   ],
   "source": [
    "obj1 = MyObject(\"Parent\", [10, 20])\n",
    "obj2 = MyObject(\"Child\", [obj1])\n",
    "\n",
    "\n",
    "print(f\" obj1: {obj2}\")\n",
    "print(f\" obj2: {obj2}\")"
   ]
  },
  {
   "cell_type": "code",
   "execution_count": 10,
   "id": "438fbb04",
   "metadata": {},
   "outputs": [
    {
     "name": "stdout",
     "output_type": "stream",
     "text": [
      " obj2: ML_Summer_School_THS (name='Child', data=[ML_Summer_School_THS (name='Parent', data=[100, 20])])\n"
     ]
    }
   ],
   "source": [
    "obj1.data[0] = 100\n",
    "print(f\" obj2: {obj2}\")"
   ]
  },
  {
   "cell_type": "code",
   "execution_count": 11,
   "id": "714e6933",
   "metadata": {},
   "outputs": [
    {
     "name": "stdout",
     "output_type": "stream",
     "text": [
      " obj1: ML_Summer_School_THS (name='Child', data=[ML_Summer_School_THS (name='Parent', data=[10, 20])])\n",
      " obj2: ML_Summer_School_THS (name='Child', data=[ML_Summer_School_THS (name='Parent', data=[10, 20])])\n"
     ]
    }
   ],
   "source": [
    "import copy\n",
    "\n",
    "obj1 = MyObject(\"Parent\", [10, 20])\n",
    "obj2 = MyObject(\"Child\", [copy.deepcopy(obj1)])\n",
    "\n",
    "\n",
    "print(f\" obj1: {obj2}\")\n",
    "print(f\" obj2: {obj2}\")\n"
   ]
  },
  {
   "cell_type": "code",
   "execution_count": 12,
   "id": "6dd143d2",
   "metadata": {},
   "outputs": [
    {
     "name": "stdout",
     "output_type": "stream",
     "text": [
      " obj2: ML_Summer_School_THS (name='Child', data=[ML_Summer_School_THS (name='Parent', data=[10, 20])])\n"
     ]
    }
   ],
   "source": [
    "obj1.data[0] = 100\n",
    "print(f\" obj2: {obj2}\")"
   ]
  },
  {
   "cell_type": "code",
   "execution_count": null,
   "id": "238726f2",
   "metadata": {},
   "outputs": [],
   "source": []
  },
  {
   "cell_type": "code",
   "execution_count": null,
   "id": "7a772a21",
   "metadata": {},
   "outputs": [],
   "source": []
  },
  {
   "cell_type": "code",
   "execution_count": null,
   "id": "5663a2ca",
   "metadata": {},
   "outputs": [],
   "source": []
  }
 ],
 "metadata": {
  "kernelspec": {
   "display_name": "ths_dev",
   "language": "python",
   "name": "python3"
  },
  "language_info": {
   "codemirror_mode": {
    "name": "ipython",
    "version": 3
   },
   "file_extension": ".py",
   "mimetype": "text/x-python",
   "name": "python",
   "nbconvert_exporter": "python",
   "pygments_lexer": "ipython3",
   "version": "3.10.16"
  }
 },
 "nbformat": 4,
 "nbformat_minor": 5
}
