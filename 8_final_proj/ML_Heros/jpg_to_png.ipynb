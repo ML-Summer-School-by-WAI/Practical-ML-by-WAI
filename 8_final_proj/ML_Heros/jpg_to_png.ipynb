{
 "cells": [
  {
   "cell_type": "code",
   "execution_count": null,
   "id": "40311bca",
   "metadata": {},
   "outputs": [
    {
     "name": "stdout",
     "output_type": "stream",
     "text": [
      "Input folder: data_dataset_voc/JPEGImages\n",
      "Output folder: data_dataset_voc/PNGImages\n"
     ]
    },
    {
     "name": "stderr",
     "output_type": "stream",
     "text": [
      "Converting images: 100%|██████████| 402/402 [00:08<00:00, 49.27it/s] "
     ]
    },
    {
     "name": "stdout",
     "output_type": "stream",
     "text": [
      "\n",
      "✅ Conversion complete! 402 images were converted to PNG.\n"
     ]
    },
    {
     "name": "stderr",
     "output_type": "stream",
     "text": [
      "\n"
     ]
    }
   ],
   "source": [
    "import os\n",
    "from PIL import Image\n",
    "from tqdm import tqdm # For a progress bar\n",
    "\n",
    "\n",
    "input_folder = \"data_dataset_voc/JPEGImages\"\n",
    "output_folder = \"data_dataset_voc/PNGImages\" # The new folder for PNG images\n",
    "\n",
    "os.makedirs(output_folder, exist_ok=True)\n",
    "print(f\"Input folder: {input_folder}\")\n",
    "print(f\"Output folder: {output_folder}\")\n",
    "\n",
    "\n",
    "all_files = os.listdir(input_folder)\n",
    "\n",
    "jpeg_files = [f for f in all_files if f.lower().endswith(('.jpg', '.jpeg'))]\n",
    "\n",
    "\n",
    "for filename in tqdm(jpeg_files, desc=\"Converting images\"):\n",
    "    \n",
    "    input_path = os.path.join(input_folder, filename)\n",
    "    \n",
    "\n",
    "    base_filename = os.path.splitext(filename)[0]\n",
    "    \n",
    "\n",
    "    output_path = os.path.join(output_folder, f\"{base_filename}.png\")\n",
    "    \n",
    "\n",
    "    with Image.open(input_path) as img:\n",
    "        # Save the image in PNG format\n",
    "        img.save(output_path, 'PNG')\n",
    "\n",
    "print(f\"\\n✅ Conversion complete! {len(jpeg_files)} images were converted to PNG.\")"
   ]
  }
 ],
 "metadata": {
  "kernelspec": {
   "display_name": "ML_Heros-RKcFm2yq",
   "language": "python",
   "name": "python3"
  },
  "language_info": {
   "codemirror_mode": {
    "name": "ipython",
    "version": 3
   },
   "file_extension": ".py",
   "mimetype": "text/x-python",
   "name": "python",
   "nbconvert_exporter": "python",
   "pygments_lexer": "ipython3",
   "version": "3.11.13"
  }
 },
 "nbformat": 4,
 "nbformat_minor": 5
}
