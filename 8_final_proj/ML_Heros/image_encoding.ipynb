{
 "cells": [
  {
   "cell_type": "markdown",
   "id": "f012eb18",
   "metadata": {},
   "source": [
    "# Image Enconding"
   ]
  },
  {
   "cell_type": "code",
   "execution_count": 2,
   "id": "d653aa50",
   "metadata": {},
   "outputs": [],
   "source": [
    "import os\n",
    "import cv2\n",
    "import numpy as np\n",
    "from PIL import Image\n",
    "from tqdm import tqdm "
   ]
  },
  {
   "cell_type": "code",
   "execution_count": 4,
   "id": "6c005777",
   "metadata": {},
   "outputs": [],
   "source": [
    "def create_color_to_label_map(mask_folder_path):\n",
    "    \"\"\"\n",
    "    Scans all masks in a folder to find unique colors and create a mapping\n",
    "    from color to a class label.\n",
    "    \"\"\"\n",
    "    print(f\"Scanning masks in '{mask_folder_path}'...\")\n",
    "    \n",
    "    unique_colors = set()\n",
    "    \n",
    "\n",
    "    mask_files = os.listdir(mask_folder_path)\n",
    "    print(mask_files)\n",
    "   \n",
    "    for filename in tqdm(mask_files, desc=\"Finding unique colors\"):\n",
    "        mask_path = os.path.join(mask_folder_path, filename)\n",
    "        \n",
    "        # Open the mask image and convert to a NumPy array\n",
    "        mask_bgr = cv2.imread(mask_path)\n",
    "\n",
    "        mask_rgb = cv2.cvtColor(mask_bgr, cv2.COLOR_BGR2RGB)\n",
    "        # Reshape the (H, W, C) array to (H*W, C) to get a list of pixels\n",
    "        pixels = mask_rgb.reshape(-1, 3)\n",
    "        \n",
    "        # Get unique rows (unique RGB colors)\n",
    "        unique_pixel_colors = np.unique(pixels, axis=0)\n",
    "        \n",
    "        # Add the unique colors found in this image to our overall set\n",
    "        for color in unique_pixel_colors:\n",
    "            unique_colors.add(tuple(color))\n",
    "            \n",
    "\n",
    "    sorted_colors = sorted(list(unique_colors))\n",
    "    \n",
    "    # Create the color-to-label dictionary\n",
    "    color_to_label = {color: label for label, color in enumerate(sorted_colors)}\n",
    "    \n",
    "    print(\"\\nScan complete!\")\n",
    "    print(f\"Found {len(color_to_label)} unique classes.\")\n",
    "    \n",
    "    return color_to_label"
   ]
  },
  {
   "cell_type": "code",
   "execution_count": 5,
   "id": "43d05afc",
   "metadata": {},
   "outputs": [
    {
     "name": "stdout",
     "output_type": "stream",
     "text": [
      "Scanning masks in 'data_dataset_voc/SegmentationClass'...\n",
      "['cat.0.png', 'cat.1.png', 'cat.10.png', 'cat.100.png', 'cat.101.png', 'cat.102.png', 'cat.103.png', 'cat.104.png', 'cat.105.png', 'cat.106.png', 'cat.107.png', 'cat.108.png', 'cat.109.png', 'cat.11.png', 'cat.110.png', 'cat.111.png', 'cat.112.png', 'cat.113.png', 'cat.114.png', 'cat.115.png', 'cat.116.png', 'cat.117.png', 'cat.118.png', 'cat.119.png', 'cat.12.png', 'cat.120.png', 'cat.121.png', 'cat.122.png', 'cat.123.png', 'cat.124.png', 'cat.125.png', 'cat.126.png', 'cat.127.png', 'cat.128.png', 'cat.129.png', 'cat.13.png', 'cat.130.png', 'cat.131.png', 'cat.132.png', 'cat.133.png', 'cat.134.png', 'cat.135.png', 'cat.136.png', 'cat.137.png', 'cat.138.png', 'cat.139.png', 'cat.14.png', 'cat.140.png', 'cat.141.png', 'cat.142.png', 'cat.143.png', 'cat.144.png', 'cat.145.png', 'cat.146.png', 'cat.147.png', 'cat.148.png', 'cat.149.png', 'cat.15.png', 'cat.150.png', 'cat.151.png', 'cat.152.png', 'cat.153.png', 'cat.154.png', 'cat.155.png', 'cat.156.png', 'cat.157.png', 'cat.158.png', 'cat.159.png', 'cat.16.png', 'cat.160.png', 'cat.161.png', 'cat.162.png', 'cat.163.png', 'cat.164.png', 'cat.165.png', 'cat.166.png', 'cat.167.png', 'cat.168.png', 'cat.169.png', 'cat.17.png', 'cat.170.png', 'cat.171.png', 'cat.172.png', 'cat.173.png', 'cat.174.png', 'cat.175.png', 'cat.176.png', 'cat.177.png', 'cat.178.png', 'cat.179.png', 'cat.18.png', 'cat.180.png', 'cat.181.png', 'cat.182.png', 'cat.183.png', 'cat.184.png', 'cat.185.png', 'cat.186.png', 'cat.187.png', 'cat.188.png', 'cat.189.png', 'cat.19.png', 'cat.190.png', 'cat.191.png', 'cat.192.png', 'cat.193.png', 'cat.194.png', 'cat.195.png', 'cat.196.png', 'cat.197.png', 'cat.198.png', 'cat.199.png', 'cat.2.png', 'cat.20.png', 'cat.200.png', 'cat.21.png', 'cat.22.png', 'cat.23.png', 'cat.24.png', 'cat.25.png', 'cat.26.png', 'cat.27.png', 'cat.28.png', 'cat.29.png', 'cat.3.png', 'cat.30.png', 'cat.31.png', 'cat.32.png', 'cat.33.png', 'cat.34.png', 'cat.35.png', 'cat.36.png', 'cat.37.png', 'cat.38.png', 'cat.39.png', 'cat.4.png', 'cat.40.png', 'cat.41.png', 'cat.42.png', 'cat.43.png', 'cat.44.png', 'cat.45.png', 'cat.46.png', 'cat.47.png', 'cat.48.png', 'cat.49.png', 'cat.5.png', 'cat.50.png', 'cat.51.png', 'cat.52.png', 'cat.53.png', 'cat.54.png', 'cat.55.png', 'cat.56.png', 'cat.57.png', 'cat.58.png', 'cat.59.png', 'cat.6.png', 'cat.60.png', 'cat.61.png', 'cat.62.png', 'cat.63.png', 'cat.64.png', 'cat.65.png', 'cat.66.png', 'cat.67.png', 'cat.68.png', 'cat.69.png', 'cat.7.png', 'cat.70.png', 'cat.71.png', 'cat.72.png', 'cat.73.png', 'cat.74.png', 'cat.75.png', 'cat.76.png', 'cat.77.png', 'cat.78.png', 'cat.79.png', 'cat.8.png', 'cat.80.png', 'cat.81.png', 'cat.82.png', 'cat.83.png', 'cat.84.png', 'cat.85.png', 'cat.86.png', 'cat.87.png', 'cat.88.png', 'cat.89.png', 'cat.9.png', 'cat.90.png', 'cat.91.png', 'cat.92.png', 'cat.93.png', 'cat.94.png', 'cat.95.png', 'cat.96.png', 'cat.97.png', 'cat.98.png', 'cat.99.png', 'dog.0.png', 'dog.1.png', 'dog.10.png', 'dog.100.png', 'dog.101.png', 'dog.102.png', 'dog.103.png', 'dog.104.png', 'dog.105.png', 'dog.106.png', 'dog.107.png', 'dog.108.png', 'dog.109.png', 'dog.11.png', 'dog.110.png', 'dog.111.png', 'dog.112.png', 'dog.113.png', 'dog.114.png', 'dog.115.png', 'dog.116.png', 'dog.117.png', 'dog.118.png', 'dog.119.png', 'dog.12.png', 'dog.120.png', 'dog.121.png', 'dog.122.png', 'dog.123.png', 'dog.124.png', 'dog.125.png', 'dog.126.png', 'dog.127.png', 'dog.128.png', 'dog.129.png', 'dog.13.png', 'dog.130.png', 'dog.131.png', 'dog.132.png', 'dog.133.png', 'dog.134.png', 'dog.135.png', 'dog.136.png', 'dog.137.png', 'dog.138.png', 'dog.139.png', 'dog.14.png', 'dog.140.png', 'dog.141.png', 'dog.142.png', 'dog.143.png', 'dog.144.png', 'dog.145.png', 'dog.146.png', 'dog.147.png', 'dog.148.png', 'dog.149.png', 'dog.15.png', 'dog.150.png', 'dog.151.png', 'dog.152.png', 'dog.153.png', 'dog.154.png', 'dog.155.png', 'dog.156.png', 'dog.157.png', 'dog.158.png', 'dog.159.png', 'dog.16.png', 'dog.160.png', 'dog.161.png', 'dog.162.png', 'dog.163.png', 'dog.164.png', 'dog.165.png', 'dog.166.png', 'dog.167.png', 'dog.168.png', 'dog.169.png', 'dog.17.png', 'dog.170.png', 'dog.171.png', 'dog.172.png', 'dog.173.png', 'dog.174.png', 'dog.175.png', 'dog.176.png', 'dog.177.png', 'dog.178.png', 'dog.179.png', 'dog.18.png', 'dog.180.png', 'dog.181.png', 'dog.182.png', 'dog.183.png', 'dog.184.png', 'dog.185.png', 'dog.186.png', 'dog.187.png', 'dog.188.png', 'dog.189.png', 'dog.19.png', 'dog.190.png', 'dog.191.png', 'dog.192.png', 'dog.193.png', 'dog.194.png', 'dog.195.png', 'dog.196.png', 'dog.197.png', 'dog.198.png', 'dog.199.png', 'dog.2.png', 'dog.20.png', 'dog.200.png', 'dog.21.png', 'dog.22.png', 'dog.23.png', 'dog.24.png', 'dog.25.png', 'dog.26.png', 'dog.27.png', 'dog.28.png', 'dog.29.png', 'dog.3.png', 'dog.30.png', 'dog.31.png', 'dog.32.png', 'dog.33.png', 'dog.34.png', 'dog.35.png', 'dog.36.png', 'dog.37.png', 'dog.38.png', 'dog.39.png', 'dog.4.png', 'dog.40.png', 'dog.41.png', 'dog.42.png', 'dog.43.png', 'dog.44.png', 'dog.45.png', 'dog.46.png', 'dog.47.png', 'dog.48.png', 'dog.49.png', 'dog.5.png', 'dog.50.png', 'dog.51.png', 'dog.52.png', 'dog.53.png', 'dog.54.png', 'dog.55.png', 'dog.56.png', 'dog.57.png', 'dog.58.png', 'dog.59.png', 'dog.6.png', 'dog.60.png', 'dog.61.png', 'dog.62.png', 'dog.63.png', 'dog.64.png', 'dog.65.png', 'dog.66.png', 'dog.67.png', 'dog.68.png', 'dog.69.png', 'dog.7.png', 'dog.70.png', 'dog.71.png', 'dog.72.png', 'dog.73.png', 'dog.74.png', 'dog.75.png', 'dog.76.png', 'dog.77.png', 'dog.78.png', 'dog.79.png', 'dog.8.png', 'dog.80.png', 'dog.81.png', 'dog.82.png', 'dog.83.png', 'dog.84.png', 'dog.85.png', 'dog.86.png', 'dog.87.png', 'dog.88.png', 'dog.89.png', 'dog.9.png', 'dog.90.png', 'dog.91.png', 'dog.92.png', 'dog.93.png', 'dog.94.png', 'dog.95.png', 'dog.96.png', 'dog.97.png', 'dog.98.png', 'dog.99.png']\n"
     ]
    },
    {
     "name": "stderr",
     "output_type": "stream",
     "text": [
      "Finding unique colors: 100%|██████████| 402/402 [00:21<00:00, 19.07it/s]"
     ]
    },
    {
     "name": "stdout",
     "output_type": "stream",
     "text": [
      "\n",
      "Scan complete!\n",
      "Found 3 unique classes.\n"
     ]
    },
    {
     "name": "stderr",
     "output_type": "stream",
     "text": [
      "\n"
     ]
    },
    {
     "data": {
      "text/plain": [
       "{(np.uint8(0), np.uint8(0), np.uint8(0)): 0,\n",
       " (np.uint8(0), np.uint8(128), np.uint8(0)): 1,\n",
       " (np.uint8(128), np.uint8(0), np.uint8(0)): 2}"
      ]
     },
     "execution_count": 5,
     "metadata": {},
     "output_type": "execute_result"
    }
   ],
   "source": [
    "mask_path = \"data_dataset_voc/SegmentationClass\"\n",
    "COLOR_TO_LABEL = create_color_to_label_map(mask_path)\n",
    "COLOR_TO_LABEL"
   ]
  },
  {
   "cell_type": "code",
   "execution_count": null,
   "id": "0e6cc2ee",
   "metadata": {},
   "outputs": [],
   "source": []
  },
  {
   "cell_type": "code",
   "execution_count": 6,
   "id": "765d9d87",
   "metadata": {},
   "outputs": [],
   "source": [
    "import numpy as np\n",
    "import cv2\n",
    "from PIL import Image\n",
    "\n",
    "def encode_mask_to_grayscale(mask_path, color_map):\n",
    "    \"\"\"\n",
    "    Converts an RGB segmentation mask to a grayscale mask with class labels.\n",
    "    \"\"\"\n",
    "    mask_bgr = cv2.imread(mask_path)\n",
    "    mask_rgb = cv2.cvtColor(mask_bgr, cv2.COLOR_BGR2RGB)\n",
    "    height, width, _ = mask_rgb.shape\n",
    "    \n",
    "    # Create an empty grayscale mask (height x width)\n",
    "    mask_grayscale = np.zeros((height, width), dtype=np.uint8)\n",
    "    \n",
    "    # For each color in our map, find where it is in the mask and assign the label\n",
    "    for color, label in color_map.items():\n",
    "        # Find pixels matching the color\n",
    "        matches = np.where(np.all(mask_rgb == color, axis=-1))\n",
    "        mask_grayscale[matches] = label\n",
    "        \n",
    "    return mask_grayscale\n",
    "\n",
    "\n"
   ]
  },
  {
   "cell_type": "code",
   "execution_count": 7,
   "id": "5995deca",
   "metadata": {},
   "outputs": [
    {
     "name": "stdout",
     "output_type": "stream",
     "text": [
      "Encoded masks will be saved to: data_dataset_voc/SegmentationClassEncoded\n"
     ]
    },
    {
     "name": "stderr",
     "output_type": "stream",
     "text": [
      "Encoding masks: 100%|██████████| 402/402 [00:03<00:00, 108.17it/s]"
     ]
    },
    {
     "name": "stdout",
     "output_type": "stream",
     "text": [
      "\n",
      "✅ Successfully processed and saved 402 masks.\n"
     ]
    },
    {
     "name": "stderr",
     "output_type": "stream",
     "text": [
      "\n"
     ]
    }
   ],
   "source": [
    "import os\n",
    "from tqdm import tqdm\n",
    "import cv2\n",
    "\n",
    "# --- 1. Define Input and Output Directories ---\n",
    "input_mask_dir = \"data_dataset_voc/SegmentationClass\"\n",
    "output_mask_dir = \"data_dataset_voc/SegmentationClassEncoded\"\n",
    "\n",
    "# --- 2. Create the Output Directory if it doesn't exist ---\n",
    "os.makedirs(output_mask_dir, exist_ok=True)\n",
    "print(f\"Encoded masks will be saved to: {output_mask_dir}\")\n",
    "\n",
    "# --- 3. Loop Through All Masks, Encode, and Save ---\n",
    "mask_filenames = os.listdir(input_mask_dir)\n",
    "\n",
    "for filename in tqdm(mask_filenames, desc=\"Encoding masks\"):\n",
    "    if filename.endswith(('.png', '.jpg', '.jpeg')):\n",
    "        input_path = os.path.join(input_mask_dir, filename)\n",
    "        encoded_mask = encode_mask_to_grayscale(input_path, COLOR_TO_LABEL)\n",
    "        output_path = os.path.join(output_mask_dir, filename)\n",
    "        cv2.imwrite(output_path, encoded_mask)\n",
    "\n",
    "print(f\"\\n✅ Successfully processed and saved {len(mask_filenames)} masks.\")"
   ]
  },
  {
   "cell_type": "markdown",
   "id": "757af4c1",
   "metadata": {},
   "source": [
    "## Read Encoded Mask"
   ]
  },
  {
   "cell_type": "code",
   "execution_count": 27,
   "id": "b41e17e0",
   "metadata": {},
   "outputs": [
    {
     "name": "stdout",
     "output_type": "stream",
     "text": [
      "Randomly selected file: cat.1.png\n"
     ]
    },
    {
     "data": {
      "image/png": "[encoded data removed]",
      "text/plain": [
       "<Figure size 640x480 with 1 Axes>"
      ]
     },
     "metadata": {},
     "output_type": "display_data"
    }
   ],
   "source": [
    "import matplotlib.pyplot as plt\n",
    "import random\n",
    "\n",
    "encoded_mask_dir = \"data_dataset_voc/SegmentationClassEncoded\"\n",
    "\n",
    "\n",
    "all_mask_files = os.listdir(encoded_mask_dir)\n",
    "random_filename = random.choice(all_mask_files)\n",
    "print(f\"Randomly selected file: {random_filename}\")\n",
    "\n",
    "random_mask_path = os.path.join(encoded_mask_dir, random_filename)\n",
    "\n",
    "\n",
    "new_grayscale_label_mask = cv2.imread(random_mask_path, cv2.IMREAD_GRAYSCALE)\n",
    "\n",
    "# Display the image\n",
    "if new_grayscale_label_mask is not None:\n",
    "    plt.imshow(new_grayscale_label_mask, cmap='gray')\n",
    "    plt.title(f\"Encoded Mask: {random_filename}\")\n",
    "    plt.axis(\"off\")\n",
    "    plt.show()\n",
    "else:\n",
    "    print(f\"Error: Could not load the image at {random_mask_path}\")"
   ]
  },
  {
   "cell_type": "code",
   "execution_count": 48,
   "id": "9c52057b",
   "metadata": {},
   "outputs": [
    {
     "name": "stdout",
     "output_type": "stream",
     "text": [
      "Label 0: _background_\n",
      "Label 1: dog\n",
      "Label 2: cat\n"
     ]
    }
   ],
   "source": [
    "class_names_path = \"data_dataset_voc/class_names.txt\"\n",
    "\n",
    "with open(class_names_path, 'r') as f:\n",
    "    for i, line in enumerate(f):\n",
    "        print(f\"Label {i}: {line.strip()}\")"
   ]
  }
 ],
 "metadata": {
  "kernelspec": {
   "display_name": "ML_Heros-RKcFm2yq",
   "language": "python",
   "name": "python3"
  },
  "language_info": {
   "codemirror_mode": {
    "name": "ipython",
    "version": 3
   },
   "file_extension": ".py",
   "mimetype": "text/x-python",
   "name": "python",
   "nbconvert_exporter": "python",
   "pygments_lexer": "ipython3",
   "version": "3.11.13"
  }
 },
 "nbformat": 4,
 "nbformat_minor": 5
}
