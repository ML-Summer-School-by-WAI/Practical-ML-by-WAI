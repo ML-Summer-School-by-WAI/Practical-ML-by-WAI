{
 "cells": [
  {
   "cell_type": "code",
   "execution_count": null,
   "id": "99559eeb",
   "metadata": {},
   "outputs": [],
   "source": [
    "import os\n",
    "import cv2\n",
    "import numpy as np\n",
    "from PIL import Image\n",
    "from tqdm import tqdm \n",
    "\n",
    "input_dir = os.getcwd() + \"\\cat_dog_segmentation_dataset\\segmentation\"\n",
    "output_dir = os.getcwd() + \"\\cat_dog_segmentation_dataset\\masks\""
   ]
  },
  {
   "cell_type": "code",
   "execution_count": 4,
   "id": "d7ceab82",
   "metadata": {},
   "outputs": [
    {
     "name": "stderr",
     "output_type": "stream",
     "text": [
      "Finding unique colors:   0%|          | 0/150 [00:00<?, ?it/s]"
     ]
    },
    {
     "name": "stderr",
     "output_type": "stream",
     "text": [
      "Finding unique colors: 100%|██████████| 150/150 [00:28<00:00,  5.35it/s]"
     ]
    },
    {
     "name": "stdout",
     "output_type": "stream",
     "text": [
      "\n",
      "Scan complete!\n",
      "Found 3 unique classes.\n"
     ]
    },
    {
     "name": "stderr",
     "output_type": "stream",
     "text": [
      "\n"
     ]
    }
   ],
   "source": [
    "def create_color_to_label_map(mask_folder_path):\n",
    "    unique_colors = set()\n",
    "    mask_files = os.listdir(mask_folder_path)\n",
    "\n",
    "    for filename in tqdm(mask_files, desc=\"Finding unique colors\"):\n",
    "        mask_path = os.path.join(mask_folder_path, filename)\n",
    "        mask_bgr = cv2.imread(mask_path)\n",
    "        mask_rgb = cv2.cvtColor(mask_bgr, cv2.COLOR_BGR2RGB)\n",
    "\n",
    "        pixels = mask_rgb.reshape(-1, 3)\n",
    "        unique_pixel_colors = np.unique(pixels, axis=0)\n",
    "\n",
    "        for color in unique_pixel_colors:\n",
    "            unique_colors.add(tuple(color))\n",
    "    \n",
    "    sorted_colors = sorted(list(unique_colors))\n",
    "\n",
    "    color_to_label = {color: label for label, color in enumerate(sorted_colors)}\n",
    "\n",
    "    print(\"\\nScan complete!\")\n",
    "    print(f\"Found {len(color_to_label)} unique classes.\")\n",
    "\n",
    "    return color_to_label\n",
    "\n",
    "\n",
    "COLOR_TO_LABEL = create_color_to_label_map(input_dir)"
   ]
  },
  {
   "cell_type": "code",
   "execution_count": 7,
   "id": "7e9c8cb5",
   "metadata": {},
   "outputs": [],
   "source": [
    "def encode_mask_to_grayscale(mask_path, color_map):\n",
    "    \"\"\"\n",
    "    Converts an RGB segmentation mask to a grayscale mask with class labels.\n",
    "    \"\"\"\n",
    "    mask_bgr = cv2.imread(mask_path)\n",
    "    mask_rgb = cv2.cvtColor(mask_bgr, cv2.COLOR_BGR2RGB)\n",
    "    height, width, _ = mask_rgb.shape\n",
    "\n",
    "    mask_grayscale = np.zeros((height, width), dtype=np.uint8)\n",
    "\n",
    "    for color, label in color_map.items():\n",
    "        matches = np.where(np.all(mask_rgb == color, axis=-1))\n",
    "        mask_grayscale[matches] = label\n",
    "    \n",
    "    return mask_grayscale"
   ]
  },
  {
   "cell_type": "code",
   "execution_count": 6,
   "id": "c545f6a4",
   "metadata": {},
   "outputs": [
    {
     "name": "stderr",
     "output_type": "stream",
     "text": [
      "Encoding masks: 100%|██████████| 150/150 [00:02<00:00, 72.03it/s]\n"
     ]
    }
   ],
   "source": [
    "os.makedirs(output_dir, exist_ok=True)\n",
    "\n",
    "for filename in tqdm(os.listdir(input_dir), desc=\"Encoding masks\"):\n",
    "    mask_path = os.path.join(input_dir, filename)\n",
    "    grayscale_mask = encode_mask_to_grayscale(mask_path, COLOR_TO_LABEL)\n",
    "\n",
    "    save_path = os.path.join(output_dir, os.path.splitext(filename)[0] + \".png\")\n",
    "    cv2.imwrite(save_path, grayscale_mask)\n"
   ]
  }
 ],
 "metadata": {
  "kernelspec": {
   "display_name": "Final_Project-g1rII0pN",
   "language": "python",
   "name": "python3"
  },
  "language_info": {
   "codemirror_mode": {
    "name": "ipython",
    "version": 3
   },
   "file_extension": ".py",
   "mimetype": "text/x-python",
   "name": "python",
   "nbconvert_exporter": "python",
   "pygments_lexer": "ipython3",
   "version": "3.11.13"
  }
 },
 "nbformat": 4,
 "nbformat_minor": 5
}
