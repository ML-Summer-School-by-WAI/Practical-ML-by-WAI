{
 "cells": [
  {
   "cell_type": "code",
   "execution_count": 26,
   "id": "21a12787",
   "metadata": {},
   "outputs": [],
   "source": [
    "import os\n",
    "import numpy as np\n",
    "from PIL import Image\n",
    "from tqdm import tqdm"
   ]
  },
  {
   "cell_type": "code",
   "execution_count": 27,
   "id": "f7021f41",
   "metadata": {},
   "outputs": [
    {
     "name": "stdout",
     "output_type": "stream",
     "text": [
      "Inspecting 160 label images in 'dataset/cat_and_dog_dataset/SegmentationClass'...\n"
     ]
    }
   ],
   "source": [
    "LABEL_DIR = 'dataset/cat_and_dog_dataset/SegmentationClass'\n",
    "\n",
    "\n",
    "unique_pixel_values = set()\n",
    "label_files = os.listdir(LABEL_DIR)\n",
    "\n",
    "print(f\"Inspecting {len(label_files)} label images in '{LABEL_DIR}'...\")"
   ]
  },
  {
   "cell_type": "code",
   "execution_count": 28,
   "id": "b4f7bba8",
   "metadata": {},
   "outputs": [
    {
     "name": "stderr",
     "output_type": "stream",
     "text": [
      "100%|█████████████████████████████████████████████████████████████████████████████████████████████████████████████████████████████████| 160/160 [00:01<00:00, 95.25it/s]\n"
     ]
    }
   ],
   "source": [
    "for filename in tqdm(label_files):\n",
    "    filepath = os.path.join(LABEL_DIR, filename)\n",
    "    \n",
    "    try:\n",
    "      \n",
    "        with Image.open(filepath) as img:\n",
    "\n",
    "            label_array = np.array(img)\n",
    "            # Find unique pixel values in the current image\n",
    "            current_uniques = np.unique(label_array)\n",
    "            str_out = f\"{filepath} : {current_uniques}\"\n",
    "            #print(str_out)\n",
    "\n",
    "            unique_pixel_values.update(current_uniques)\n",
    "    except Exception as e:\n",
    "        print(f\"Could not process file {filename}: {e}\")"
   ]
  },
  {
   "cell_type": "code",
   "execution_count": 29,
   "id": "6cdb5d78",
   "metadata": {},
   "outputs": [
    {
     "name": "stdout",
     "output_type": "stream",
     "text": [
      "Unique pixel values found: [np.uint8(0), np.uint8(1), np.uint8(2)]\n",
      "Total number of unique classes: 3\n"
     ]
    }
   ],
   "source": [
    "sorted_uniques = sorted(list(unique_pixel_values))\n",
    "num_classes = len(sorted_uniques)\n",
    "\n",
    "print(f\"Unique pixel values found: {sorted_uniques}\")\n",
    "print(f\"Total number of unique classes: {num_classes}\")\n"
   ]
  },
  {
   "cell_type": "code",
   "execution_count": null,
   "id": "220ecea9",
   "metadata": {},
   "outputs": [],
   "source": []
  }
 ],
 "metadata": {
  "kernelspec": {
   "display_name": "Python 3 (ipykernel)",
   "language": "python",
   "name": "python3"
  }
 },
 "nbformat": 4,
 "nbformat_minor": 5
}
