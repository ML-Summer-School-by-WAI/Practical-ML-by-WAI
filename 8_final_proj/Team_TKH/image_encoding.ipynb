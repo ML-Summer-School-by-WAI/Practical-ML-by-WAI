{
 "cells": [
  {
   "cell_type": "code",
   "execution_count": 2,
   "id": "d653aa50",
   "metadata": {},
   "outputs": [],
   "source": [
    "import os\n",
    "import cv2\n",
    "import numpy as np\n",
    "from PIL import Image\n",
    "from tqdm import tqdm"
   ]
  },
  {
   "cell_type": "code",
   "execution_count": 2,
   "id": "6c005777",
   "metadata": {},
   "outputs": [],
   "source": [
    "def create_color_to_label_map(mask_folder_path):\n",
    "    \"\"\"\n",
    "    Scans all masks in a folder to find unique colors and create a mapping\n",
    "    from color to a class label.\n",
    "    \"\"\"\n",
    "    print(f\"Scanning masks in '{mask_folder_path}'...\")\n",
    "    \n",
    "    unique_colors = set()\n",
    "    \n",
    "\n",
    "    mask_files = os.listdir(mask_folder_path)\n",
    "    print(mask_files)\n",
    "   \n",
    "    for filename in tqdm(mask_files, desc=\"Finding unique colors\"):\n",
    "        mask_path = os.path.join(mask_folder_path, filename)\n",
    "        \n",
    "        # Open the mask image and convert to a NumPy array\n",
    "        mask_bgr = cv2.imread(mask_path)\n",
    "\n",
    "        mask_rgb = cv2.cvtColor(mask_bgr, cv2.COLOR_BGR2RGB)\n",
    "        # Reshape the (H, W, C) array to (H*W, C) to get a list of pixels\n",
    "        pixels = mask_rgb.reshape(-1, 3)\n",
    "        \n",
    "        # Get unique rows (unique RGB colors)\n",
    "        unique_pixel_colors = np.unique(pixels, axis=0)\n",
    "        \n",
    "        # Add the unique colors found in this image to our overall set\n",
    "        for color in unique_pixel_colors:\n",
    "            unique_colors.add(tuple(color))\n",
    "            \n",
    "\n",
    "    sorted_colors = sorted(list(unique_colors))\n",
    "    \n",
    "    # Create the color-to-label dictionary\n",
    "    color_to_label = {color: label for label, color in enumerate(sorted_colors)}\n",
    "    \n",
    "    print(\"\\nScan complete!\")\n",
    "    print(f\"Found {len(color_to_label)} unique classes.\")\n",
    "    \n",
    "    return color_to_label"
   ]
  },
  {
   "cell_type": "code",
   "execution_count": 3,
   "id": "43d05afc",
   "metadata": {},
   "outputs": [
    {
     "name": "stdout",
     "output_type": "stream",
     "text": [
      "Scanning masks in 'dataset/cat_and_dog_dataset/SegmentationClass'...\n",
      "['cat.1.png', 'cat.10.png', 'cat.103.png', 'cat.106.png', 'cat.107.png', 'cat.109.png', 'cat.11.png', 'cat.110.png', 'cat.112.png', 'cat.115.png', 'cat.116.png', 'cat.127.png', 'cat.133.png', 'cat.137.png', 'cat.142.png', 'cat.16.png', 'cat.160.png', 'cat.2002.png', 'cat.2007.png', 'cat.2012.png', 'cat.2016.png', 'cat.2018.png', 'cat.2024.png', 'cat.2025.png', 'cat.2026.png', 'cat.2029.png', 'cat.2030.png', 'cat.2031.png', 'cat.2053.png', 'cat.2059.png', 'cat.2063.png', 'cat.2080.png', 'cat.2089.png', 'cat.2097.png', 'cat.21.png', 'cat.2114.png', 'cat.2128.png', 'cat.2138.png', 'cat.2176.png', 'cat.2187.png', 'cat.22.png', 'cat.2207.png', 'cat.2215.png', 'cat.2232.png', 'cat.2246.png', 'cat.2254.png', 'cat.2275.png', 'cat.2277.png', 'cat.2282.png', 'cat.2290.png', 'cat.2318.png', 'cat.2357.png', 'cat.2416.png', 'cat.2424.png', 'cat.2430.png', 'cat.2439.png', 'cat.2448.png', 'cat.2451.png', 'cat.2486.png', 'cat.286.png', 'cat.294.png', 'cat.3.png', 'cat.33.png', 'cat.371.png', 'cat.4.png', 'cat.441.png', 'cat.47.png', 'cat.53.png', 'cat.56.png', 'cat.57.png', 'cat.63.png', 'cat.66.png', 'cat.69.png', 'cat.7.png', 'cat.70.png', 'cat.72.png', 'cat.76.png', 'cat.78.png', 'cat.91.png', 'cat.98.png', 'dog.1.png', 'dog.115.png', 'dog.13.png', 'dog.148.png', 'dog.151.png', 'dog.161.png', 'dog.171.png', 'dog.184.png', 'dog.197.png', 'dog.2001.png', 'dog.2002.png', 'dog.2005.png', 'dog.2013.png', 'dog.2015.png', 'dog.2016.png', 'dog.2019.png', 'dog.2031.png', 'dog.2032.png', 'dog.2039.png', 'dog.2050.png', 'dog.2074.png', 'dog.2083.png', 'dog.21.png', 'dog.2104.png', 'dog.2112.png', 'dog.2127.png', 'dog.2128.png', 'dog.2129.png', 'dog.2156.png', 'dog.2161.png', 'dog.2164.png', 'dog.2167.png', 'dog.218.png', 'dog.2183.png', 'dog.2218.png', 'dog.2238.png', 'dog.2241.png', 'dog.2253.png', 'dog.2260.png', 'dog.2281.png', 'dog.2285.png', 'dog.2296.png', 'dog.23.png', 'dog.2308.png', 'dog.2334.png', 'dog.2350.png', 'dog.2373.png', 'dog.2401.png', 'dog.2425.png', 'dog.2430.png', 'dog.2487.png', 'dog.2489.png', 'dog.28.png', 'dog.30.png', 'dog.300.png', 'dog.314.png', 'dog.318.png', 'dog.32.png', 'dog.321.png', 'dog.324.png', 'dog.328.png', 'dog.333.png', 'dog.363.png', 'dog.376.png', 'dog.377.png', 'dog.38.png', 'dog.396.png', 'dog.4.png', 'dog.44.png', 'dog.443.png', 'dog.452.png', 'dog.47.png', 'dog.50.png', 'dog.55.png', 'dog.58.png', 'dog.6.png', 'dog.8.png', 'dog.80.png', 'dog.83.png', 'dog.97.png']\n"
     ]
    },
    {
     "name": "stderr",
     "output_type": "stream",
     "text": [
      "Finding unique colors:   0%|                                                                          | 0/160 [00:00<?, ?it/s]"
     ]
    },
    {
     "name": "stderr",
     "output_type": "stream",
     "text": [
      "Finding unique colors: 100%|████████████████████████████████████████████████████████████████| 160/160 [00:28<00:00,  5.71it/s]"
     ]
    },
    {
     "name": "stdout",
     "output_type": "stream",
     "text": [
      "\n",
      "Scan complete!\n",
      "Found 3 unique classes.\n"
     ]
    },
    {
     "name": "stderr",
     "output_type": "stream",
     "text": [
      "\n"
     ]
    },
    {
     "data": {
      "text/plain": [
       "{(np.uint8(0), np.uint8(0), np.uint8(0)): 0,\n",
       " (np.uint8(0), np.uint8(128), np.uint8(0)): 1,\n",
       " (np.uint8(128), np.uint8(0), np.uint8(0)): 2}"
      ]
     },
     "execution_count": 3,
     "metadata": {},
     "output_type": "execute_result"
    }
   ],
   "source": [
    "mask_path = \"dataset/cat_and_dog_dataset/SegmentationClass\"\n",
    "COLOR_TO_LABEL = create_color_to_label_map(mask_path)\n",
    "COLOR_TO_LABEL"
   ]
  },
  {
   "cell_type": "code",
   "execution_count": null,
   "id": "0e6cc2ee",
   "metadata": {},
   "outputs": [],
   "source": []
  },
  {
   "cell_type": "code",
   "execution_count": 6,
   "id": "765d9d87",
   "metadata": {},
   "outputs": [],
   "source": [
    "import numpy as np\n",
    "import cv2\n",
    "from PIL import Image\n",
    "\n",
    "def encode_mask_to_grayscale(mask_path, color_map):\n",
    "    \"\"\"\n",
    "    Converts an RGB segmentation mask to a grayscale mask with class labels.\n",
    "    \"\"\"\n",
    "    mask_bgr = cv2.imread(mask_path)\n",
    "    mask_rgb = cv2.cvtColor(mask_bgr, cv2.COLOR_BGR2RGB)\n",
    "    height, width, _ = mask_rgb.shape\n",
    "    \n",
    "    # Create an empty grayscale mask (height x width)\n",
    "    mask_grayscale = np.zeros((height, width), dtype=np.uint8)\n",
    "    \n",
    "    # For each color in our map, find where it is in the mask and assign the label\n",
    "    for color, label in color_map.items():\n",
    "        # Find pixels matching the color\n",
    "        matches = np.where(np.all(mask_rgb == color, axis=-1))\n",
    "        mask_grayscale[matches] = label\n",
    "        \n",
    "    return mask_grayscale\n",
    "\n",
    "\n"
   ]
  },
  {
   "cell_type": "code",
   "execution_count": 31,
   "id": "4318d72f",
   "metadata": {},
   "outputs": [
    {
     "name": "stderr",
     "output_type": "stream",
     "text": [
      "Encoding masks: 100%|███████████████████████████████████████████████████████████████████████| 160/160 [00:05<00:00, 29.55it/s]\n"
     ]
    }
   ],
   "source": [
    "input_dir = \"dataset/cat_and_dog_dataset/SegmentationClass\"\n",
    "output_dir = \"dataset/cat_and_dog_dataset/encoded_masks\"\n",
    "mask_files = os.listdir(input_dir)\n",
    "current_path = os.getcwd()\n",
    "\n",
    "os.makedirs(os.path.join(current_path, output_dir), exist_ok=True)\n",
    "\n",
    "for filename in tqdm(mask_files, desc=\"Encoding masks\"):\n",
    "    if filename.endswith(('.jpg', '.png')):\n",
    "        mask_path = os.path.join(input_dir, filename)\n",
    "\n",
    "        grayscale_label_mask = encode_mask_to_grayscale(mask_path, COLOR_TO_LABEL).astype(np.uint8)\n",
    "\n",
    "        save_path = os.path.join(current_path, output_dir, os.path.splitext(filename)[0] + '.jpg')\n",
    "        cv2.imwrite(save_path, grayscale_label_mask)\n"
   ]
  },
  {
   "cell_type": "markdown",
   "id": "752278bf",
   "metadata": {},
   "source": [
    "### Reread the encoded mask"
   ]
  },
  {
   "cell_type": "code",
   "execution_count": 37,
   "id": "4d1bec02",
   "metadata": {},
   "outputs": [
    {
     "data": {
      "text/plain": [
       "<matplotlib.image.AxesImage at 0x72788c3be320>"
      ]
     },
     "execution_count": 37,
     "metadata": {},
     "output_type": "execute_result"
    },
    {
     "data": {
      "image/png": "[encoded data removed]",
      "text/plain": [
       "<Figure size 640x480 with 1 Axes>"
      ]
     },
     "metadata": {},
     "output_type": "display_data"
    }
   ],
   "source": [
    "import matplotlib.pyplot as plt\n",
    "save_path = \"dataset/cat_and_dog_dataset/encoded_masks/cat.1.jpg\"\n",
    "new_grayscale_label_mask = cv2.imread(save_path, cv2.IMREAD_GRAYSCALE)\n",
    "plt.imshow(new_grayscale_label_mask)"
   ]
  },
  {
   "cell_type": "code",
   "execution_count": null,
   "id": "84cb3331",
   "metadata": {},
   "outputs": [],
   "source": []
  }
 ],
 "metadata": {
  "kernelspec": {
   "display_name": "Python 3 (ipykernel)",
   "language": "python",
   "name": "python3"
  }
 },
 "nbformat": 4,
 "nbformat_minor": 5
}
