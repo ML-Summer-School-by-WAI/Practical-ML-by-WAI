{
 "cells": [
  {
   "cell_type": "code",
   "execution_count": 12,
   "id": "d653aa50",
   "metadata": {},
   "outputs": [],
   "source": [
    "import os\n",
    "import cv2\n",
    "import numpy as np\n",
    "from PIL import Image\n",
    "from tqdm import tqdm "
   ]
  },
  {
   "cell_type": "code",
   "execution_count": 13,
   "id": "6c005777",
   "metadata": {},
   "outputs": [],
   "source": [
    "def create_color_to_label_map(mask_folder_path):\n",
    "    \"\"\"\n",
    "    Scans all masks in a folder to find unique colors and create a mapping\n",
    "    from color to a class label.\n",
    "    \"\"\"\n",
    "    print(f\"Scanning masks in '{mask_folder_path}'...\")\n",
    "    \n",
    "    unique_colors = set()\n",
    "    \n",
    "\n",
    "    mask_files = os.listdir(mask_folder_path)\n",
    "    print(mask_files)\n",
    "   \n",
    "    for filename in tqdm(mask_files, desc=\"Finding unique colors\"):\n",
    "        mask_path = os.path.join(mask_folder_path, filename)\n",
    "        \n",
    "        # Open the mask image and convert to a NumPy array\n",
    "        mask_bgr = cv2.imread(mask_path)\n",
    "\n",
    "        mask_rgb = cv2.cvtColor(mask_bgr, cv2.COLOR_BGR2RGB)\n",
    "        # Reshape the (H, W, C) array to (H*W, C) to get a list of pixels\n",
    "        pixels = mask_rgb.reshape(-1, 3)\n",
    "        \n",
    "        # Get unique rows (unique RGB colors)\n",
    "        unique_pixel_colors = np.unique(pixels, axis=0)\n",
    "        \n",
    "        # Add the unique colors found in this image to our overall set\n",
    "        for color in unique_pixel_colors:\n",
    "            unique_colors.add(tuple(color))\n",
    "            \n",
    "\n",
    "    sorted_colors = sorted(list(unique_colors))\n",
    "    \n",
    "    # Create the color-to-label dictionary\n",
    "    color_to_label = {color: label for label, color in enumerate(sorted_colors)}\n",
    "    \n",
    "    print(\"\\nScan complete!\")\n",
    "    print(f\"Found {len(color_to_label)} unique classes.\")\n",
    "    \n",
    "    return color_to_label"
   ]
  },
  {
   "cell_type": "code",
   "execution_count": 14,
   "id": "43d05afc",
   "metadata": {},
   "outputs": [
    {
     "name": "stdout",
     "output_type": "stream",
     "text": [
      "Scanning masks in 'data_dataset_voc/SegmentationClass/'...\n",
      "['cat.6.png', 'cat.24.png', 'cat.30.png', 'cat.18.png', 'dog.22.png', 'dog.36.png', 'dog.37.png', 'dog.23.png', 'cat.19.png', 'cat.31.png', 'cat.25.png', 'cat.7.png', 'cat.5.png', 'cat.33.png', 'cat.27.png', 'dog.35.png', 'dog.21.png', 'dog.20.png', 'dog.34.png', 'cat.26.png', 'cat.32.png', 'cat.4.png', 'cat.0.png', 'cat.36.png', 'cat.22.png', 'cat.149.png', 'dog.30.png', 'dog.149.png', 'dog.24.png', 'dog.18.png', 'dog.19.png', 'dog.148.png', 'dog.25.png', 'dog.31.png', 'cat.148.png', 'cat.23.png', 'cat.37.png', 'cat.1.png', 'cat.3.png', 'cat.21.png', 'cat.35.png', 'dog.27.png', 'dog.33.png', 'dog.32.png', 'dog.26.png', 'cat.34.png', 'cat.20.png', 'cat.2.png', 'cat.47.png', 'cat.53.png', 'cat.138.png', 'cat.110.png', 'dog.82.png', 'cat.104.png', 'dog.96.png', 'cat.84.png', 'dog.110.png', 'dog.104.png', 'cat.90.png', 'dog.69.png', 'dog.1.png', 'dog.41.png', 'dog.138.png', 'dog.55.png', 'dog.139.png', 'dog.54.png', 'dog.40.png', 'dog.0.png', 'dog.105.png', 'dog.68.png', 'cat.91.png', 'cat.85.png', 'dog.111.png', 'dog.97.png', 'cat.105.png', 'dog.83.png', 'cat.111.png', 'cat.139.png', 'cat.52.png', 'cat.46.png', 'cat.50.png', 'cat.44.png', 'cat.107.png', 'dog.95.png', 'cat.78.png', 'cat.113.png', 'dog.81.png', 'cat.93.png', 'dog.107.png', 'dog.113.png', 'cat.87.png', 'dog.2.png', 'dog.42.png', 'dog.43.png', 'dog.3.png', 'dog.57.png', 'dog.112.png', 'cat.86.png', 'cat.92.png', 'dog.106.png', 'dog.80.png', 'cat.112.png', 'cat.79.png', 'dog.94.png', 'cat.106.png', 'cat.45.png', 'cat.51.png', 'dog.90.png', 'cat.69.png', 'cat.102.png', 'dog.84.png', 'cat.116.png', 'cat.55.png', 'cat.41.png', 'dog.53.png', 'dog.47.png', 'dog.7.png', 'dog.102.png', 'cat.96.png', 'cat.82.png', 'dog.116.png', 'cat.83.png', 'dog.117.png', 'dog.103.png', 'cat.97.png', 'dog.6.png', 'dog.46.png', 'dog.52.png', 'cat.40.png', 'cat.54.png', 'cat.117.png', 'dog.85.png', 'cat.103.png', 'cat.68.png', 'dog.91.png', 'dog.87.png', 'cat.115.png', 'dog.93.png', 'cat.101.png', 'cat.42.png', 'cat.129.png', 'cat.56.png', 'dog.129.png', 'dog.44.png', 'dog.4.png', 'dog.50.png', 'dog.115.png', 'dog.78.png', 'cat.81.png', 'cat.95.png', 'dog.101.png', 'cat.94.png', 'dog.100.png', 'dog.114.png', 'cat.80.png', 'dog.79.png', 'dog.51.png', 'dog.128.png', 'dog.5.png', 'dog.45.png', 'cat.57.png', 'cat.128.png', 'cat.43.png', 'cat.100.png', 'dog.92.png', 'cat.114.png', 'dog.86.png', 'cat.66.png', 'cat.72.png', 'cat.119.png', 'cat.131.png', 'cat.125.png', 'dog.131.png', 'dog.125.png', 'dog.8.png', 'dog.48.png', 'cat.99.png', 'dog.60.png', 'dog.119.png', 'dog.74.png', 'dog.118.png', 'dog.75.png', 'dog.61.png', 'cat.98.png', 'dog.124.png', 'dog.49.png', 'dog.9.png', 'dog.130.png', 'cat.124.png', 'cat.130.png', 'cat.118.png', 'cat.73.png', 'cat.67.png', 'cat.71.png', 'dog.88.png', 'cat.65.png', 'cat.126.png', 'cat.59.png', 'cat.132.png', 'dog.126.png', 'dog.132.png', 'dog.77.png', 'dog.63.png', 'dog.62.png', 'dog.76.png', 'dog.133.png', 'dog.127.png', 'cat.133.png', 'cat.58.png', 'cat.127.png', 'cat.64.png', 'dog.89.png', 'cat.70.png', 'cat.48.png', 'cat.123.png', 'cat.137.png', 'cat.74.png', 'dog.99.png', 'cat.60.png', 'dog.72.png', 'dog.66.png', 'dog.123.png', 'dog.137.png', 'dog.136.png', 'dog.122.png', 'dog.67.png', 'dog.73.png', 'cat.61.png', 'dog.98.png', 'cat.75.png', 'cat.136.png', 'cat.122.png', 'cat.49.png', 'cat.134.png', 'cat.120.png', 'cat.63.png', 'cat.108.png', 'cat.77.png', 'dog.108.png', 'dog.65.png', 'dog.71.png', 'cat.88.png', 'dog.134.png', 'dog.59.png', 'dog.120.png', 'dog.121.png', 'dog.135.png', 'dog.58.png', 'cat.89.png', 'dog.70.png', 'dog.109.png', 'dog.64.png', 'cat.76.png', 'cat.109.png', 'cat.62.png', 'cat.121.png', 'cat.135.png', 'cat.11.png', 'cat.39.png', 'cat.146.png', 'dog.146.png', 'dog.17.png', 'dog.16.png', 'dog.147.png', 'cat.147.png', 'cat.38.png', 'cat.10.png', 'cat.12.png', 'cat.145.png', 'dog.145.png', 'dog.28.png', 'dog.14.png', 'dog.15.png', 'dog.150.png', 'dog.144.png', 'dog.29.png', 'cat.150.png', 'cat.144.png', 'cat.13.png', 'cat.9.png', 'cat.140.png', 'cat.17.png', 'dog.11.png', 'dog.140.png', 'dog.39.png', 'dog.38.png', 'dog.141.png', 'dog.10.png', 'cat.16.png', 'cat.141.png', 'cat.8.png', 'cat.28.png', 'cat.143.png', 'cat.14.png', 'dog.12.png', 'dog.143.png', 'dog.142.png', 'dog.13.png', 'cat.15.png', 'cat.142.png', 'cat.29.png']\n"
     ]
    },
    {
     "name": "stderr",
     "output_type": "stream",
     "text": [
      "Finding unique colors: 100%|██████████| 301/301 [00:44<00:00,  6.73it/s]"
     ]
    },
    {
     "name": "stdout",
     "output_type": "stream",
     "text": [
      "\n",
      "Scan complete!\n",
      "Found 3 unique classes.\n"
     ]
    },
    {
     "name": "stderr",
     "output_type": "stream",
     "text": [
      "\n"
     ]
    },
    {
     "data": {
      "text/plain": [
       "{(0, 0, 0): 0, (0, 128, 0): 1, (128, 0, 0): 2}"
      ]
     },
     "execution_count": 14,
     "metadata": {},
     "output_type": "execute_result"
    }
   ],
   "source": [
    "mask_path = \"data_dataset_voc/SegmentationClass/\"\n",
    "COLOR_TO_LABEL = create_color_to_label_map(mask_path)\n",
    "COLOR_TO_LABEL"
   ]
  },
  {
   "cell_type": "code",
   "execution_count": 15,
   "id": "0e6cc2ee",
   "metadata": {},
   "outputs": [],
   "source": [
    "mask_output_folder=\"data_dataset_voc/SegmentationClass/\"\n",
    "mask_output_folder=\"data_dataset_voc/SegmentationClassEncoded/\""
   ]
  },
  {
   "cell_type": "code",
   "execution_count": 16,
   "id": "765d9d87",
   "metadata": {},
   "outputs": [
    {
     "name": "stderr",
     "output_type": "stream",
     "text": [
      "Encoding masks: 100%|██████████| 301/301 [00:04<00:00, 71.24it/s]\n"
     ]
    }
   ],
   "source": [
    "import numpy as np\n",
    "import cv2\n",
    "from tqdm import tqdm\n",
    "\n",
    "def encode_masks_in_folder(input_folder, output_folder, color_map):\n",
    "    \"\"\"\n",
    "    Converts all RGB masks in a folder to grayscale masks using the provided color_map.\n",
    "    Saves the grayscale masks in the output folder with the same filenames.\n",
    "    \"\"\"\n",
    "    os.makedirs(output_folder, exist_ok=True)\n",
    "    \n",
    "    # List all image files\n",
    "    mask_files = [f for f in os.listdir(input_folder) if f.endswith(('.png', '.jpg', '.jpeg'))]\n",
    "    \n",
    "    for mask_file in tqdm(mask_files, desc=\"Encoding masks\"):\n",
    "        mask_path = os.path.join(input_folder, mask_file)\n",
    "        mask_bgr = cv2.imread(mask_path)\n",
    "        \n",
    "        if mask_bgr is None:\n",
    "            print(f\"Warning: cannot read {mask_path}\")\n",
    "            continue\n",
    "        \n",
    "        mask_rgb = cv2.cvtColor(mask_bgr, cv2.COLOR_BGR2RGB)\n",
    "        height, width, _ = mask_rgb.shape\n",
    "        mask_grayscale = np.zeros((height, width), dtype=np.uint8)\n",
    "        \n",
    "        # Encode mask\n",
    "        for color, label in color_map.items():\n",
    "            matches = np.all(mask_rgb == color, axis=-1)\n",
    "            mask_grayscale[matches] = label\n",
    "        \n",
    "        # Save grayscale mask\n",
    "        output_path = os.path.join(output_folder, mask_file)\n",
    "        cv2.imwrite(output_path, mask_grayscale)\n",
    "\n",
    "# ==========================\n",
    "# Example usage\n",
    "# ==========================\n",
    "color_map = {\n",
    "    (0, 0, 0): 0,       # background\n",
    "    (128, 0, 0): 1,     # cat\n",
    "    (0, 128, 0): 2      # dog\n",
    "}\n",
    "\n",
    "input_folder = \"data_dataset_voc/SegmentationClass/\"\n",
    "output_folder = \"data_dataset_voc/SegmentationClassEncoded/\"\n",
    "\n",
    "encode_masks_in_folder(input_folder, output_folder, color_map)\n",
    "\n",
    "\n"
   ]
  },
  {
   "cell_type": "code",
   "execution_count": null,
   "id": "853c351d",
   "metadata": {},
   "outputs": [],
   "source": []
  },
  {
   "cell_type": "markdown",
   "id": "752278bf",
   "metadata": {},
   "source": [
    "### Reread the encoded mask"
   ]
  },
  {
   "cell_type": "code",
   "execution_count": 22,
   "id": "4d1bec02",
   "metadata": {},
   "outputs": [
    {
     "data": {
      "image/png": "[encoded data removed]",
      "text/plain": [
       "<Figure size 600x600 with 1 Axes>"
      ]
     },
     "metadata": {},
     "output_type": "display_data"
    }
   ],
   "source": [
    "\n",
    "import cv2\n",
    "import matplotlib.pyplot as plt\n",
    "\n",
    "# Path to the encoded mask\n",
    "save_path = \"data_dataset_voc/SegmentationClassEncoded/dog.0.png\"\n",
    "\n",
    "# Load the mask in grayscale / unchanged mode\n",
    "new_grayscale_label_mask = cv2.imread(save_path, cv2.IMREAD_UNCHANGED)  # keeps original values\n",
    "\n",
    "# Display the mask\n",
    "plt.figure(figsize=(6,6))\n",
    "plt.imshow(new_grayscale_label_mask, cmap='gray')  # grayscale colormap\n",
    "plt.title(\"Encoded Grayscale Mask\")\n",
    "plt.axis('off')\n",
    "plt.show()\n"
   ]
  },
  {
   "cell_type": "code",
   "execution_count": null,
   "id": "84cb3331",
   "metadata": {},
   "outputs": [],
   "source": []
  },
  {
   "cell_type": "code",
   "execution_count": null,
   "id": "7c053707",
   "metadata": {},
   "outputs": [],
   "source": []
  }
 ],
 "metadata": {
  "kernelspec": {
   "display_name": "final_project",
   "language": "python",
   "name": "python3"
  },
  "language_info": {
   "codemirror_mode": {
    "name": "ipython",
    "version": 3
   },
   "file_extension": ".py",
   "mimetype": "text/x-python",
   "name": "python",
   "nbconvert_exporter": "python",
   "pygments_lexer": "ipython3",
   "version": "3.11.13"
  }
 },
 "nbformat": 4,
 "nbformat_minor": 5
}
