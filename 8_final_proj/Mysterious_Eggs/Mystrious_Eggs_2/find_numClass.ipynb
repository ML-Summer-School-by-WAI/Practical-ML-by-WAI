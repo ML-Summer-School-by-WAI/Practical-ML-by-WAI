{
 "cells": [
  {
   "cell_type": "code",
   "execution_count": 8,
   "id": "21a12787",
   "metadata": {},
   "outputs": [],
   "source": [
    "import os\n",
    "import numpy as np\n",
    "from PIL import Image\n",
    "from tqdm import tqdm"
   ]
  },
  {
   "cell_type": "code",
   "execution_count": 16,
   "id": "f7021f41",
   "metadata": {},
   "outputs": [
    {
     "name": "stdout",
     "output_type": "stream",
     "text": [
      "Inspecting 211 label images in 'dataset/car-segmentation/masks'...\n"
     ]
    }
   ],
   "source": [
    "LABEL_DIR = 'dataset/cityscapes/train/label'\n",
    "LABEL_DIR = 'dataset/car-segmentation/masks'\n",
    "\n",
    "\n",
    "unique_pixel_values = set()\n",
    "label_files = os.listdir(LABEL_DIR)\n",
    "\n",
    "print(f\"Inspecting {len(label_files)} label images in '{LABEL_DIR}'...\")"
   ]
  },
  {
   "cell_type": "code",
   "execution_count": 19,
   "id": "b4f7bba8",
   "metadata": {},
   "outputs": [
    {
     "name": "stderr",
     "output_type": "stream",
     "text": [
      "100%|██████████| 211/211 [00:03<00:00, 56.00it/s] \n"
     ]
    }
   ],
   "source": [
    "\n",
    "for filename in tqdm(label_files):\n",
    "    filepath = os.path.join(LABEL_DIR, filename)\n",
    "    \n",
    "    try:\n",
    "      \n",
    "        with Image.open(filepath) as img:\n",
    "\n",
    "            label_array = np.array(img)\n",
    "            # Find unique pixel values in the current image\n",
    "            current_uniques = np.unique(label_array)\n",
    "            str_out = f\"{filepath} : {current_uniques}\"\n",
    "            #print(str_out)\n",
    "\n",
    "            unique_pixel_values.update(current_uniques)\n",
    "    except Exception as e:\n",
    "        print(f\"Could not process file {filename}: {e}\")"
   ]
  },
  {
   "cell_type": "code",
   "execution_count": 20,
   "id": "6cdb5d78",
   "metadata": {},
   "outputs": [
    {
     "name": "stdout",
     "output_type": "stream",
     "text": [
      "Unique pixel values found: [0, 1, 2, 3, 4]\n",
      "Total number of unique classes: 5\n"
     ]
    }
   ],
   "source": [
    "sorted_uniques = sorted(list(unique_pixel_values))\n",
    "num_classes = len(sorted_uniques)\n",
    "\n",
    "print(f\"Unique pixel values found: {sorted_uniques}\")\n",
    "print(f\"Total number of unique classes: {num_classes}\")\n"
   ]
  },
  {
   "cell_type": "code",
   "execution_count": null,
   "id": "220ecea9",
   "metadata": {},
   "outputs": [],
   "source": []
  }
 ],
 "metadata": {
  "kernelspec": {
   "display_name": "ths_dev",
   "language": "python",
   "name": "python3"
  },
  "language_info": {
   "codemirror_mode": {
    "name": "ipython",
    "version": 3
   },
   "file_extension": ".py",
   "mimetype": "text/x-python",
   "name": "python",
   "nbconvert_exporter": "python",
   "pygments_lexer": "ipython3",
   "version": "3.10.16"
  }
 },
 "nbformat": 4,
 "nbformat_minor": 5
}
